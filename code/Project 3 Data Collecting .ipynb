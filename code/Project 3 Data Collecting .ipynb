{
 "cells": [
  {
   "cell_type": "markdown",
   "metadata": {},
   "source": [
    "# Project 3 : Web APIs & NLP\n",
    "#### Author: Najiha Boosra (DSI-NYC)"
   ]
  },
  {
   "cell_type": "markdown",
   "metadata": {},
   "source": [
    "## Problem Statement"
   ]
  },
  {
   "cell_type": "markdown",
   "metadata": {},
   "source": [
    "This is a binary classification problem. Our goal is two-fold:\n",
    "- Using API, we have to collect posts from two subreddits\n",
    "- Then we have to use NLP to train a classifier on which subreddit a given post came from.  \n",
    "\n",
    "\n",
    "We are going to gather and prepare our data using the requests library, To create and compare two models. One of these must be a Bayes classifier, however the other can be a classifier of logistic regression, Bagging Classifier, Random forest, Extra tree etc.We will pick one based on the solution. Through it is about classification model so success will be measured by an accuracy score.\n",
    "\n"
   ]
  },
  {
   "cell_type": "markdown",
   "metadata": {},
   "source": [
    "## Executive Summary "
   ]
  },
  {
   "cell_type": "markdown",
   "metadata": {},
   "source": [
    "After pull requests using API, we are going to use r/baby and r/Pets from the Reddit web page. There are lots of text with punctuations, several signs, spaces, etc, We have to clean all the data as much as possible to perform EDA. Then we use the stopwords method. In the modeling part we have to create a baseline model and then relative classification models. From the models we will get train test and cross Val score.this are the key to find our desired model to evaluate. So we can find the desired matric from the confusion matrix. At last we will find coefficients from the interpretable model using logistic regression."
   ]
  },
  {
   "cell_type": "markdown",
   "metadata": {},
   "source": [
    "## Contents:\n",
    "\n",
    "- **[Case Study: Using `requests` to scrape](#Case-Study)**.\n",
    "\n",
    "- **[Import Libraries](#Data-Import-Libraries)**.  \n",
    "\n",
    "- **[Converting to Pandas Dataframe](#Converting-to-Pandas-Dataframe)**.\n",
    "\n",
    "- **[Automating Multiple Pull Requests](#Automating-Multiple-Pull-Requests)**.\n"
   ]
  },
  {
   "cell_type": "markdown",
   "metadata": {},
   "source": [
    "### Case Study: Using `requests` to scrape"
   ]
  },
  {
   "cell_type": "markdown",
   "metadata": {},
   "source": [
    "#### Import Libraries "
   ]
  },
  {
   "cell_type": "code",
   "execution_count": 188,
   "metadata": {},
   "outputs": [],
   "source": [
    "import requests\n",
    "\n",
    "import pandas as pd\n",
    "import numpy as np\n",
    "\n",
    "import datetime as dt\n",
    "import time"
   ]
  },
  {
   "cell_type": "code",
   "execution_count": 189,
   "metadata": {},
   "outputs": [],
   "source": [
    "base_url = \"https://api.pushshift.io/reddit/search/submission/\""
   ]
  },
  {
   "cell_type": "code",
   "execution_count": 190,
   "metadata": {},
   "outputs": [],
   "source": [
    "res = requests.get(base_url)"
   ]
  },
  {
   "cell_type": "markdown",
   "metadata": {},
   "source": [
    "Checking the status code"
   ]
  },
  {
   "cell_type": "code",
   "execution_count": 191,
   "metadata": {},
   "outputs": [
    {
     "data": {
      "text/plain": [
       "200"
      ]
     },
     "execution_count": 191,
     "metadata": {},
     "output_type": "execute_result"
    }
   ],
   "source": [
    "res.status_code"
   ]
  },
  {
   "cell_type": "markdown",
   "metadata": {},
   "source": [
    "Requesting two subreddit baby and Pets"
   ]
  },
  {
   "cell_type": "code",
   "execution_count": 192,
   "metadata": {},
   "outputs": [],
   "source": [
    "res_baby = requests.get(base_url,\n",
    "                       params ={\"subreddit\" : \"baby\",\n",
    "                               \"size\" : 500\n",
    "                               })\n",
    "res_Pets = requests.get(base_url,\n",
    "                       params={\"subreddit\" : \"Pets\",\n",
    "                              \"size\" : 500\n",
    "                              })"
   ]
  },
  {
   "cell_type": "markdown",
   "metadata": {},
   "source": [
    "Convert the string to JSON, or dictionary"
   ]
  },
  {
   "cell_type": "code",
   "execution_count": 193,
   "metadata": {},
   "outputs": [],
   "source": [
    "data_baby = res_baby.json()[\"data\"]\n",
    "data_Pets = res_Pets.json()[\"data\"]"
   ]
  },
  {
   "cell_type": "code",
   "execution_count": 252,
   "metadata": {},
   "outputs": [],
   "source": [
    "#data_baby"
   ]
  },
  {
   "cell_type": "markdown",
   "metadata": {},
   "source": [
    "Dig into Data for baby"
   ]
  },
  {
   "cell_type": "code",
   "execution_count": 195,
   "metadata": {},
   "outputs": [
    {
     "data": {
      "text/plain": [
       "500"
      ]
     },
     "execution_count": 195,
     "metadata": {},
     "output_type": "execute_result"
    }
   ],
   "source": [
    "len(data_baby)"
   ]
  },
  {
   "cell_type": "code",
   "execution_count": 253,
   "metadata": {},
   "outputs": [],
   "source": [
    "#data_Pets"
   ]
  },
  {
   "cell_type": "markdown",
   "metadata": {},
   "source": [
    "Dig into Data for Pets"
   ]
  },
  {
   "cell_type": "code",
   "execution_count": 197,
   "metadata": {
    "scrolled": true
   },
   "outputs": [
    {
     "data": {
      "text/plain": [
       "500"
      ]
     },
     "execution_count": 197,
     "metadata": {},
     "output_type": "execute_result"
    }
   ],
   "source": [
    "len(data_Pets)"
   ]
  },
  {
   "cell_type": "markdown",
   "metadata": {},
   "source": [
    "### Converting to Pandas Dataframe"
   ]
  },
  {
   "cell_type": "code",
   "execution_count": 198,
   "metadata": {
    "scrolled": true
   },
   "outputs": [
    {
     "data": {
      "text/html": [
       "<div>\n",
       "<style scoped>\n",
       "    .dataframe tbody tr th:only-of-type {\n",
       "        vertical-align: middle;\n",
       "    }\n",
       "\n",
       "    .dataframe tbody tr th {\n",
       "        vertical-align: top;\n",
       "    }\n",
       "\n",
       "    .dataframe thead th {\n",
       "        text-align: right;\n",
       "    }\n",
       "</style>\n",
       "<table border=\"1\" class=\"dataframe\">\n",
       "  <thead>\n",
       "    <tr style=\"text-align: right;\">\n",
       "      <th></th>\n",
       "      <th>all_awardings</th>\n",
       "      <th>allow_live_comments</th>\n",
       "      <th>author</th>\n",
       "      <th>author_flair_css_class</th>\n",
       "      <th>author_flair_richtext</th>\n",
       "      <th>author_flair_text</th>\n",
       "      <th>author_flair_type</th>\n",
       "      <th>author_fullname</th>\n",
       "      <th>author_patreon_flair</th>\n",
       "      <th>author_premium</th>\n",
       "      <th>...</th>\n",
       "      <th>edited</th>\n",
       "      <th>media</th>\n",
       "      <th>secure_media</th>\n",
       "      <th>media_embed</th>\n",
       "      <th>secure_media_embed</th>\n",
       "      <th>author_flair_background_color</th>\n",
       "      <th>author_flair_text_color</th>\n",
       "      <th>crosspost_parent</th>\n",
       "      <th>crosspost_parent_list</th>\n",
       "      <th>media_metadata</th>\n",
       "    </tr>\n",
       "  </thead>\n",
       "  <tbody>\n",
       "    <tr>\n",
       "      <th>0</th>\n",
       "      <td>[]</td>\n",
       "      <td>False</td>\n",
       "      <td>lisharathi</td>\n",
       "      <td>None</td>\n",
       "      <td>[]</td>\n",
       "      <td>None</td>\n",
       "      <td>text</td>\n",
       "      <td>t2_5dabh8b0</td>\n",
       "      <td>False</td>\n",
       "      <td>False</td>\n",
       "      <td>...</td>\n",
       "      <td>NaN</td>\n",
       "      <td>NaN</td>\n",
       "      <td>NaN</td>\n",
       "      <td>NaN</td>\n",
       "      <td>NaN</td>\n",
       "      <td>NaN</td>\n",
       "      <td>NaN</td>\n",
       "      <td>NaN</td>\n",
       "      <td>NaN</td>\n",
       "      <td>NaN</td>\n",
       "    </tr>\n",
       "    <tr>\n",
       "      <th>1</th>\n",
       "      <td>[]</td>\n",
       "      <td>False</td>\n",
       "      <td>babeeclothing</td>\n",
       "      <td>None</td>\n",
       "      <td>[]</td>\n",
       "      <td>None</td>\n",
       "      <td>text</td>\n",
       "      <td>t2_5dd5i7si</td>\n",
       "      <td>False</td>\n",
       "      <td>False</td>\n",
       "      <td>...</td>\n",
       "      <td>NaN</td>\n",
       "      <td>NaN</td>\n",
       "      <td>NaN</td>\n",
       "      <td>NaN</td>\n",
       "      <td>NaN</td>\n",
       "      <td>NaN</td>\n",
       "      <td>NaN</td>\n",
       "      <td>NaN</td>\n",
       "      <td>NaN</td>\n",
       "      <td>NaN</td>\n",
       "    </tr>\n",
       "    <tr>\n",
       "      <th>2</th>\n",
       "      <td>[]</td>\n",
       "      <td>False</td>\n",
       "      <td>Hazzay88</td>\n",
       "      <td>None</td>\n",
       "      <td>[]</td>\n",
       "      <td>None</td>\n",
       "      <td>text</td>\n",
       "      <td>t2_5c73kp0</td>\n",
       "      <td>False</td>\n",
       "      <td>False</td>\n",
       "      <td>...</td>\n",
       "      <td>NaN</td>\n",
       "      <td>NaN</td>\n",
       "      <td>NaN</td>\n",
       "      <td>NaN</td>\n",
       "      <td>NaN</td>\n",
       "      <td>NaN</td>\n",
       "      <td>NaN</td>\n",
       "      <td>NaN</td>\n",
       "      <td>NaN</td>\n",
       "      <td>NaN</td>\n",
       "    </tr>\n",
       "    <tr>\n",
       "      <th>3</th>\n",
       "      <td>[]</td>\n",
       "      <td>False</td>\n",
       "      <td>babeeclothing</td>\n",
       "      <td>None</td>\n",
       "      <td>[]</td>\n",
       "      <td>None</td>\n",
       "      <td>text</td>\n",
       "      <td>t2_5dd5i7si</td>\n",
       "      <td>False</td>\n",
       "      <td>False</td>\n",
       "      <td>...</td>\n",
       "      <td>NaN</td>\n",
       "      <td>NaN</td>\n",
       "      <td>NaN</td>\n",
       "      <td>NaN</td>\n",
       "      <td>NaN</td>\n",
       "      <td>NaN</td>\n",
       "      <td>NaN</td>\n",
       "      <td>NaN</td>\n",
       "      <td>NaN</td>\n",
       "      <td>NaN</td>\n",
       "    </tr>\n",
       "    <tr>\n",
       "      <th>4</th>\n",
       "      <td>[]</td>\n",
       "      <td>False</td>\n",
       "      <td>babeeclothing</td>\n",
       "      <td>None</td>\n",
       "      <td>[]</td>\n",
       "      <td>None</td>\n",
       "      <td>text</td>\n",
       "      <td>t2_5dd5i7si</td>\n",
       "      <td>False</td>\n",
       "      <td>False</td>\n",
       "      <td>...</td>\n",
       "      <td>NaN</td>\n",
       "      <td>NaN</td>\n",
       "      <td>NaN</td>\n",
       "      <td>NaN</td>\n",
       "      <td>NaN</td>\n",
       "      <td>NaN</td>\n",
       "      <td>NaN</td>\n",
       "      <td>NaN</td>\n",
       "      <td>NaN</td>\n",
       "      <td>NaN</td>\n",
       "    </tr>\n",
       "  </tbody>\n",
       "</table>\n",
       "<p>5 rows × 67 columns</p>\n",
       "</div>"
      ],
      "text/plain": [
       "  all_awardings  allow_live_comments         author author_flair_css_class  \\\n",
       "0            []                False     lisharathi                   None   \n",
       "1            []                False  babeeclothing                   None   \n",
       "2            []                False       Hazzay88                   None   \n",
       "3            []                False  babeeclothing                   None   \n",
       "4            []                False  babeeclothing                   None   \n",
       "\n",
       "  author_flair_richtext author_flair_text author_flair_type author_fullname  \\\n",
       "0                    []              None              text     t2_5dabh8b0   \n",
       "1                    []              None              text     t2_5dd5i7si   \n",
       "2                    []              None              text      t2_5c73kp0   \n",
       "3                    []              None              text     t2_5dd5i7si   \n",
       "4                    []              None              text     t2_5dd5i7si   \n",
       "\n",
       "  author_patreon_flair author_premium  ... edited  media  secure_media  \\\n",
       "0                False          False  ...    NaN    NaN           NaN   \n",
       "1                False          False  ...    NaN    NaN           NaN   \n",
       "2                False          False  ...    NaN    NaN           NaN   \n",
       "3                False          False  ...    NaN    NaN           NaN   \n",
       "4                False          False  ...    NaN    NaN           NaN   \n",
       "\n",
       "   media_embed secure_media_embed author_flair_background_color  \\\n",
       "0          NaN                NaN                           NaN   \n",
       "1          NaN                NaN                           NaN   \n",
       "2          NaN                NaN                           NaN   \n",
       "3          NaN                NaN                           NaN   \n",
       "4          NaN                NaN                           NaN   \n",
       "\n",
       "  author_flair_text_color crosspost_parent  crosspost_parent_list  \\\n",
       "0                     NaN              NaN                    NaN   \n",
       "1                     NaN              NaN                    NaN   \n",
       "2                     NaN              NaN                    NaN   \n",
       "3                     NaN              NaN                    NaN   \n",
       "4                     NaN              NaN                    NaN   \n",
       "\n",
       "   media_metadata  \n",
       "0             NaN  \n",
       "1             NaN  \n",
       "2             NaN  \n",
       "3             NaN  \n",
       "4             NaN  \n",
       "\n",
       "[5 rows x 67 columns]"
      ]
     },
     "execution_count": 198,
     "metadata": {},
     "output_type": "execute_result"
    }
   ],
   "source": [
    "baby_df = pd.DataFrame(data_baby)\n",
    "baby_df.head()"
   ]
  },
  {
   "cell_type": "code",
   "execution_count": 199,
   "metadata": {},
   "outputs": [
    {
     "data": {
      "text/html": [
       "<div>\n",
       "<style scoped>\n",
       "    .dataframe tbody tr th:only-of-type {\n",
       "        vertical-align: middle;\n",
       "    }\n",
       "\n",
       "    .dataframe tbody tr th {\n",
       "        vertical-align: top;\n",
       "    }\n",
       "\n",
       "    .dataframe thead th {\n",
       "        text-align: right;\n",
       "    }\n",
       "</style>\n",
       "<table border=\"1\" class=\"dataframe\">\n",
       "  <thead>\n",
       "    <tr style=\"text-align: right;\">\n",
       "      <th></th>\n",
       "      <th>all_awardings</th>\n",
       "      <th>allow_live_comments</th>\n",
       "      <th>author</th>\n",
       "      <th>author_flair_css_class</th>\n",
       "      <th>author_flair_richtext</th>\n",
       "      <th>author_flair_text</th>\n",
       "      <th>author_flair_type</th>\n",
       "      <th>author_fullname</th>\n",
       "      <th>author_patreon_flair</th>\n",
       "      <th>author_premium</th>\n",
       "      <th>...</th>\n",
       "      <th>author_flair_background_color</th>\n",
       "      <th>author_flair_text_color</th>\n",
       "      <th>edited</th>\n",
       "      <th>crosspost_parent</th>\n",
       "      <th>crosspost_parent_list</th>\n",
       "      <th>author_cakeday</th>\n",
       "      <th>poll_data</th>\n",
       "      <th>media_metadata</th>\n",
       "      <th>banned_by</th>\n",
       "      <th>author_flair_template_id</th>\n",
       "    </tr>\n",
       "  </thead>\n",
       "  <tbody>\n",
       "    <tr>\n",
       "      <th>0</th>\n",
       "      <td>[]</td>\n",
       "      <td>False</td>\n",
       "      <td>bs_05</td>\n",
       "      <td>None</td>\n",
       "      <td>[]</td>\n",
       "      <td>None</td>\n",
       "      <td>text</td>\n",
       "      <td>t2_50egdvye</td>\n",
       "      <td>False</td>\n",
       "      <td>False</td>\n",
       "      <td>...</td>\n",
       "      <td>NaN</td>\n",
       "      <td>NaN</td>\n",
       "      <td>NaN</td>\n",
       "      <td>NaN</td>\n",
       "      <td>NaN</td>\n",
       "      <td>NaN</td>\n",
       "      <td>NaN</td>\n",
       "      <td>NaN</td>\n",
       "      <td>NaN</td>\n",
       "      <td>NaN</td>\n",
       "    </tr>\n",
       "    <tr>\n",
       "      <th>1</th>\n",
       "      <td>[]</td>\n",
       "      <td>False</td>\n",
       "      <td>Fredz161099</td>\n",
       "      <td>None</td>\n",
       "      <td>[]</td>\n",
       "      <td>None</td>\n",
       "      <td>text</td>\n",
       "      <td>t2_dy4r02d</td>\n",
       "      <td>False</td>\n",
       "      <td>False</td>\n",
       "      <td>...</td>\n",
       "      <td>NaN</td>\n",
       "      <td>NaN</td>\n",
       "      <td>NaN</td>\n",
       "      <td>NaN</td>\n",
       "      <td>NaN</td>\n",
       "      <td>NaN</td>\n",
       "      <td>NaN</td>\n",
       "      <td>NaN</td>\n",
       "      <td>NaN</td>\n",
       "      <td>NaN</td>\n",
       "    </tr>\n",
       "    <tr>\n",
       "      <th>2</th>\n",
       "      <td>[]</td>\n",
       "      <td>False</td>\n",
       "      <td>parad0x88</td>\n",
       "      <td>None</td>\n",
       "      <td>[]</td>\n",
       "      <td>None</td>\n",
       "      <td>text</td>\n",
       "      <td>t2_k326c</td>\n",
       "      <td>False</td>\n",
       "      <td>False</td>\n",
       "      <td>...</td>\n",
       "      <td>NaN</td>\n",
       "      <td>NaN</td>\n",
       "      <td>NaN</td>\n",
       "      <td>NaN</td>\n",
       "      <td>NaN</td>\n",
       "      <td>NaN</td>\n",
       "      <td>NaN</td>\n",
       "      <td>NaN</td>\n",
       "      <td>NaN</td>\n",
       "      <td>NaN</td>\n",
       "    </tr>\n",
       "    <tr>\n",
       "      <th>3</th>\n",
       "      <td>[]</td>\n",
       "      <td>False</td>\n",
       "      <td>milkowu</td>\n",
       "      <td>None</td>\n",
       "      <td>[]</td>\n",
       "      <td>None</td>\n",
       "      <td>text</td>\n",
       "      <td>t2_5auj1ko7</td>\n",
       "      <td>False</td>\n",
       "      <td>False</td>\n",
       "      <td>...</td>\n",
       "      <td>NaN</td>\n",
       "      <td>NaN</td>\n",
       "      <td>NaN</td>\n",
       "      <td>NaN</td>\n",
       "      <td>NaN</td>\n",
       "      <td>NaN</td>\n",
       "      <td>NaN</td>\n",
       "      <td>NaN</td>\n",
       "      <td>NaN</td>\n",
       "      <td>NaN</td>\n",
       "    </tr>\n",
       "    <tr>\n",
       "      <th>4</th>\n",
       "      <td>[]</td>\n",
       "      <td>False</td>\n",
       "      <td>Floofy_hbjb</td>\n",
       "      <td>None</td>\n",
       "      <td>[]</td>\n",
       "      <td>None</td>\n",
       "      <td>text</td>\n",
       "      <td>t2_q4emoxw</td>\n",
       "      <td>False</td>\n",
       "      <td>False</td>\n",
       "      <td>...</td>\n",
       "      <td>NaN</td>\n",
       "      <td>NaN</td>\n",
       "      <td>NaN</td>\n",
       "      <td>NaN</td>\n",
       "      <td>NaN</td>\n",
       "      <td>NaN</td>\n",
       "      <td>NaN</td>\n",
       "      <td>NaN</td>\n",
       "      <td>NaN</td>\n",
       "      <td>NaN</td>\n",
       "    </tr>\n",
       "  </tbody>\n",
       "</table>\n",
       "<p>5 rows × 75 columns</p>\n",
       "</div>"
      ],
      "text/plain": [
       "  all_awardings  allow_live_comments       author author_flair_css_class  \\\n",
       "0            []                False        bs_05                   None   \n",
       "1            []                False  Fredz161099                   None   \n",
       "2            []                False    parad0x88                   None   \n",
       "3            []                False      milkowu                   None   \n",
       "4            []                False  Floofy_hbjb                   None   \n",
       "\n",
       "  author_flair_richtext author_flair_text author_flair_type author_fullname  \\\n",
       "0                    []              None              text     t2_50egdvye   \n",
       "1                    []              None              text      t2_dy4r02d   \n",
       "2                    []              None              text        t2_k326c   \n",
       "3                    []              None              text     t2_5auj1ko7   \n",
       "4                    []              None              text      t2_q4emoxw   \n",
       "\n",
       "  author_patreon_flair author_premium  ... author_flair_background_color  \\\n",
       "0                False          False  ...                           NaN   \n",
       "1                False          False  ...                           NaN   \n",
       "2                False          False  ...                           NaN   \n",
       "3                False          False  ...                           NaN   \n",
       "4                False          False  ...                           NaN   \n",
       "\n",
       "   author_flair_text_color  edited  crosspost_parent crosspost_parent_list  \\\n",
       "0                      NaN     NaN               NaN                   NaN   \n",
       "1                      NaN     NaN               NaN                   NaN   \n",
       "2                      NaN     NaN               NaN                   NaN   \n",
       "3                      NaN     NaN               NaN                   NaN   \n",
       "4                      NaN     NaN               NaN                   NaN   \n",
       "\n",
       "  author_cakeday poll_data media_metadata  banned_by  author_flair_template_id  \n",
       "0            NaN       NaN            NaN        NaN                       NaN  \n",
       "1            NaN       NaN            NaN        NaN                       NaN  \n",
       "2            NaN       NaN            NaN        NaN                       NaN  \n",
       "3            NaN       NaN            NaN        NaN                       NaN  \n",
       "4            NaN       NaN            NaN        NaN                       NaN  \n",
       "\n",
       "[5 rows x 75 columns]"
      ]
     },
     "execution_count": 199,
     "metadata": {},
     "output_type": "execute_result"
    }
   ],
   "source": [
    "Pets_df = pd.DataFrame(data_Pets)\n",
    "Pets_df.head()"
   ]
  },
  {
   "cell_type": "markdown",
   "metadata": {},
   "source": [
    "After concating both DataFrame"
   ]
  },
  {
   "cell_type": "code",
   "execution_count": 200,
   "metadata": {},
   "outputs": [],
   "source": [
    "result_df = pd.concat([baby_df, Pets_df])"
   ]
  },
  {
   "cell_type": "code",
   "execution_count": 201,
   "metadata": {
    "scrolled": true
   },
   "outputs": [
    {
     "data": {
      "text/plain": [
       "(1000, 75)"
      ]
     },
     "execution_count": 201,
     "metadata": {},
     "output_type": "execute_result"
    }
   ],
   "source": [
    "result_df.shape"
   ]
  },
  {
   "cell_type": "code",
   "execution_count": 254,
   "metadata": {},
   "outputs": [],
   "source": [
    "#result_df.columns"
   ]
  },
  {
   "cell_type": "markdown",
   "metadata": {},
   "source": [
    "Picking some columns which seem important for our analysis"
   ]
  },
  {
   "cell_type": "code",
   "execution_count": 224,
   "metadata": {},
   "outputs": [],
   "source": [
    "subfields =['subreddit',\"subreddit_type\", 'author',\n",
    "           'created_utc','link_flair_text_color', \n",
    "           'link_flair_type','retrieved_on', 'score',\n",
    "            'subreddit_subscribers', 'subreddit_type',  \n",
    "           'title', 'domain', 'full_link', 'url', \n",
    "        'is_reddit_media_domain', 'no_follow', 'send_replies',   \n",
    "          'can_mod_post', 'contest_mode',\n",
    "            'is_crosspostable', 'is_meta', \n",
    "        'is_original_content', 'is_robot_indexable', \n",
    "            'is_self', 'is_video','locked', 'media_only',\n",
    "        'over_18','pinned','spoiler', 'stickied']\n",
    "result_df = result_df[subfields]"
   ]
  },
  {
   "cell_type": "code",
   "execution_count": 225,
   "metadata": {},
   "outputs": [
    {
     "data": {
      "text/html": [
       "<div>\n",
       "<style scoped>\n",
       "    .dataframe tbody tr th:only-of-type {\n",
       "        vertical-align: middle;\n",
       "    }\n",
       "\n",
       "    .dataframe tbody tr th {\n",
       "        vertical-align: top;\n",
       "    }\n",
       "\n",
       "    .dataframe thead th {\n",
       "        text-align: right;\n",
       "    }\n",
       "</style>\n",
       "<table border=\"1\" class=\"dataframe\">\n",
       "  <thead>\n",
       "    <tr style=\"text-align: right;\">\n",
       "      <th></th>\n",
       "      <th>subreddit</th>\n",
       "      <th>subreddit_type</th>\n",
       "      <th>subreddit_type</th>\n",
       "      <th>author</th>\n",
       "      <th>created_utc</th>\n",
       "      <th>link_flair_text_color</th>\n",
       "      <th>link_flair_type</th>\n",
       "      <th>retrieved_on</th>\n",
       "      <th>score</th>\n",
       "      <th>subreddit_subscribers</th>\n",
       "      <th>...</th>\n",
       "      <th>is_original_content</th>\n",
       "      <th>is_robot_indexable</th>\n",
       "      <th>is_self</th>\n",
       "      <th>is_video</th>\n",
       "      <th>locked</th>\n",
       "      <th>media_only</th>\n",
       "      <th>over_18</th>\n",
       "      <th>pinned</th>\n",
       "      <th>spoiler</th>\n",
       "      <th>stickied</th>\n",
       "    </tr>\n",
       "  </thead>\n",
       "  <tbody>\n",
       "    <tr>\n",
       "      <th>0</th>\n",
       "      <td>Pets</td>\n",
       "      <td>public</td>\n",
       "      <td>public</td>\n",
       "      <td>bs_05</td>\n",
       "      <td>1587472445</td>\n",
       "      <td>dark</td>\n",
       "      <td>text</td>\n",
       "      <td>1587472447</td>\n",
       "      <td>1</td>\n",
       "      <td>124006</td>\n",
       "      <td>...</td>\n",
       "      <td>False</td>\n",
       "      <td>True</td>\n",
       "      <td>True</td>\n",
       "      <td>False</td>\n",
       "      <td>False</td>\n",
       "      <td>False</td>\n",
       "      <td>False</td>\n",
       "      <td>False</td>\n",
       "      <td>False</td>\n",
       "      <td>False</td>\n",
       "    </tr>\n",
       "    <tr>\n",
       "      <th>1</th>\n",
       "      <td>Pets</td>\n",
       "      <td>public</td>\n",
       "      <td>public</td>\n",
       "      <td>Fredz161099</td>\n",
       "      <td>1587471627</td>\n",
       "      <td>dark</td>\n",
       "      <td>text</td>\n",
       "      <td>1587471629</td>\n",
       "      <td>1</td>\n",
       "      <td>124006</td>\n",
       "      <td>...</td>\n",
       "      <td>False</td>\n",
       "      <td>False</td>\n",
       "      <td>True</td>\n",
       "      <td>False</td>\n",
       "      <td>False</td>\n",
       "      <td>False</td>\n",
       "      <td>False</td>\n",
       "      <td>False</td>\n",
       "      <td>False</td>\n",
       "      <td>False</td>\n",
       "    </tr>\n",
       "    <tr>\n",
       "      <th>2</th>\n",
       "      <td>baby</td>\n",
       "      <td>public</td>\n",
       "      <td>public</td>\n",
       "      <td>Hazzay88</td>\n",
       "      <td>1587449519</td>\n",
       "      <td>dark</td>\n",
       "      <td>text</td>\n",
       "      <td>1587449521</td>\n",
       "      <td>1</td>\n",
       "      <td>7055</td>\n",
       "      <td>...</td>\n",
       "      <td>False</td>\n",
       "      <td>True</td>\n",
       "      <td>True</td>\n",
       "      <td>False</td>\n",
       "      <td>False</td>\n",
       "      <td>False</td>\n",
       "      <td>False</td>\n",
       "      <td>False</td>\n",
       "      <td>False</td>\n",
       "      <td>False</td>\n",
       "    </tr>\n",
       "    <tr>\n",
       "      <th>2</th>\n",
       "      <td>Pets</td>\n",
       "      <td>public</td>\n",
       "      <td>public</td>\n",
       "      <td>parad0x88</td>\n",
       "      <td>1587471378</td>\n",
       "      <td>dark</td>\n",
       "      <td>text</td>\n",
       "      <td>1587471380</td>\n",
       "      <td>1</td>\n",
       "      <td>124005</td>\n",
       "      <td>...</td>\n",
       "      <td>False</td>\n",
       "      <td>True</td>\n",
       "      <td>True</td>\n",
       "      <td>False</td>\n",
       "      <td>False</td>\n",
       "      <td>False</td>\n",
       "      <td>False</td>\n",
       "      <td>False</td>\n",
       "      <td>False</td>\n",
       "      <td>False</td>\n",
       "    </tr>\n",
       "    <tr>\n",
       "      <th>4</th>\n",
       "      <td>Pets</td>\n",
       "      <td>public</td>\n",
       "      <td>public</td>\n",
       "      <td>Floofy_hbjb</td>\n",
       "      <td>1587470008</td>\n",
       "      <td>dark</td>\n",
       "      <td>text</td>\n",
       "      <td>1587470010</td>\n",
       "      <td>1</td>\n",
       "      <td>124004</td>\n",
       "      <td>...</td>\n",
       "      <td>False</td>\n",
       "      <td>True</td>\n",
       "      <td>True</td>\n",
       "      <td>False</td>\n",
       "      <td>False</td>\n",
       "      <td>False</td>\n",
       "      <td>False</td>\n",
       "      <td>False</td>\n",
       "      <td>False</td>\n",
       "      <td>False</td>\n",
       "    </tr>\n",
       "  </tbody>\n",
       "</table>\n",
       "<p>5 rows × 33 columns</p>\n",
       "</div>"
      ],
      "text/plain": [
       "  subreddit subreddit_type subreddit_type       author  created_utc  \\\n",
       "0      Pets         public         public        bs_05   1587472445   \n",
       "1      Pets         public         public  Fredz161099   1587471627   \n",
       "2      baby         public         public     Hazzay88   1587449519   \n",
       "2      Pets         public         public    parad0x88   1587471378   \n",
       "4      Pets         public         public  Floofy_hbjb   1587470008   \n",
       "\n",
       "  link_flair_text_color link_flair_type  retrieved_on  score  \\\n",
       "0                  dark            text    1587472447      1   \n",
       "1                  dark            text    1587471629      1   \n",
       "2                  dark            text    1587449521      1   \n",
       "2                  dark            text    1587471380      1   \n",
       "4                  dark            text    1587470010      1   \n",
       "\n",
       "   subreddit_subscribers  ... is_original_content is_robot_indexable is_self  \\\n",
       "0                 124006  ...               False               True    True   \n",
       "1                 124006  ...               False              False    True   \n",
       "2                   7055  ...               False               True    True   \n",
       "2                 124005  ...               False               True    True   \n",
       "4                 124004  ...               False               True    True   \n",
       "\n",
       "  is_video locked media_only  over_18  pinned  spoiler  stickied  \n",
       "0    False  False      False    False   False    False     False  \n",
       "1    False  False      False    False   False    False     False  \n",
       "2    False  False      False    False   False    False     False  \n",
       "2    False  False      False    False   False    False     False  \n",
       "4    False  False      False    False   False    False     False  \n",
       "\n",
       "[5 rows x 33 columns]"
      ]
     },
     "execution_count": 225,
     "metadata": {},
     "output_type": "execute_result"
    }
   ],
   "source": [
    "result_df.head()"
   ]
  },
  {
   "cell_type": "code",
   "execution_count": 226,
   "metadata": {},
   "outputs": [
    {
     "data": {
      "text/html": [
       "<div>\n",
       "<style scoped>\n",
       "    .dataframe tbody tr th:only-of-type {\n",
       "        vertical-align: middle;\n",
       "    }\n",
       "\n",
       "    .dataframe tbody tr th {\n",
       "        vertical-align: top;\n",
       "    }\n",
       "\n",
       "    .dataframe thead th {\n",
       "        text-align: right;\n",
       "    }\n",
       "</style>\n",
       "<table border=\"1\" class=\"dataframe\">\n",
       "  <thead>\n",
       "    <tr style=\"text-align: right;\">\n",
       "      <th></th>\n",
       "      <th>subreddit</th>\n",
       "      <th>subreddit_type</th>\n",
       "      <th>subreddit_type</th>\n",
       "      <th>author</th>\n",
       "      <th>created_utc</th>\n",
       "      <th>link_flair_text_color</th>\n",
       "      <th>link_flair_type</th>\n",
       "      <th>retrieved_on</th>\n",
       "      <th>score</th>\n",
       "      <th>subreddit_subscribers</th>\n",
       "      <th>...</th>\n",
       "      <th>is_original_content</th>\n",
       "      <th>is_robot_indexable</th>\n",
       "      <th>is_self</th>\n",
       "      <th>is_video</th>\n",
       "      <th>locked</th>\n",
       "      <th>media_only</th>\n",
       "      <th>over_18</th>\n",
       "      <th>pinned</th>\n",
       "      <th>spoiler</th>\n",
       "      <th>stickied</th>\n",
       "    </tr>\n",
       "  </thead>\n",
       "  <tbody>\n",
       "    <tr>\n",
       "      <th>496</th>\n",
       "      <td>Pets</td>\n",
       "      <td>public</td>\n",
       "      <td>public</td>\n",
       "      <td>[deleted]</td>\n",
       "      <td>1586889930</td>\n",
       "      <td>dark</td>\n",
       "      <td>text</td>\n",
       "      <td>1586956197</td>\n",
       "      <td>1</td>\n",
       "      <td>123337</td>\n",
       "      <td>...</td>\n",
       "      <td>False</td>\n",
       "      <td>False</td>\n",
       "      <td>True</td>\n",
       "      <td>False</td>\n",
       "      <td>False</td>\n",
       "      <td>False</td>\n",
       "      <td>False</td>\n",
       "      <td>False</td>\n",
       "      <td>False</td>\n",
       "      <td>False</td>\n",
       "    </tr>\n",
       "    <tr>\n",
       "      <th>497</th>\n",
       "      <td>Pets</td>\n",
       "      <td>public</td>\n",
       "      <td>public</td>\n",
       "      <td>theblowfish5</td>\n",
       "      <td>1586889928</td>\n",
       "      <td>dark</td>\n",
       "      <td>text</td>\n",
       "      <td>1586956197</td>\n",
       "      <td>1</td>\n",
       "      <td>123337</td>\n",
       "      <td>...</td>\n",
       "      <td>False</td>\n",
       "      <td>True</td>\n",
       "      <td>True</td>\n",
       "      <td>False</td>\n",
       "      <td>False</td>\n",
       "      <td>False</td>\n",
       "      <td>False</td>\n",
       "      <td>False</td>\n",
       "      <td>False</td>\n",
       "      <td>False</td>\n",
       "    </tr>\n",
       "    <tr>\n",
       "      <th>498</th>\n",
       "      <td>Pets</td>\n",
       "      <td>public</td>\n",
       "      <td>public</td>\n",
       "      <td>[deleted]</td>\n",
       "      <td>1586888557</td>\n",
       "      <td>dark</td>\n",
       "      <td>text</td>\n",
       "      <td>1586954994</td>\n",
       "      <td>1</td>\n",
       "      <td>123335</td>\n",
       "      <td>...</td>\n",
       "      <td>False</td>\n",
       "      <td>False</td>\n",
       "      <td>True</td>\n",
       "      <td>False</td>\n",
       "      <td>False</td>\n",
       "      <td>False</td>\n",
       "      <td>False</td>\n",
       "      <td>False</td>\n",
       "      <td>False</td>\n",
       "      <td>False</td>\n",
       "    </tr>\n",
       "    <tr>\n",
       "      <th>499</th>\n",
       "      <td>baby</td>\n",
       "      <td>public</td>\n",
       "      <td>public</td>\n",
       "      <td>Mhairib</td>\n",
       "      <td>1583768787</td>\n",
       "      <td>dark</td>\n",
       "      <td>text</td>\n",
       "      <td>1583768795</td>\n",
       "      <td>1</td>\n",
       "      <td>6774</td>\n",
       "      <td>...</td>\n",
       "      <td>False</td>\n",
       "      <td>True</td>\n",
       "      <td>True</td>\n",
       "      <td>False</td>\n",
       "      <td>False</td>\n",
       "      <td>False</td>\n",
       "      <td>False</td>\n",
       "      <td>False</td>\n",
       "      <td>False</td>\n",
       "      <td>False</td>\n",
       "    </tr>\n",
       "    <tr>\n",
       "      <th>499</th>\n",
       "      <td>Pets</td>\n",
       "      <td>public</td>\n",
       "      <td>public</td>\n",
       "      <td>controlisanillusion</td>\n",
       "      <td>1586888362</td>\n",
       "      <td>dark</td>\n",
       "      <td>text</td>\n",
       "      <td>1586954821</td>\n",
       "      <td>1</td>\n",
       "      <td>123335</td>\n",
       "      <td>...</td>\n",
       "      <td>False</td>\n",
       "      <td>True</td>\n",
       "      <td>True</td>\n",
       "      <td>False</td>\n",
       "      <td>False</td>\n",
       "      <td>False</td>\n",
       "      <td>False</td>\n",
       "      <td>False</td>\n",
       "      <td>False</td>\n",
       "      <td>False</td>\n",
       "    </tr>\n",
       "  </tbody>\n",
       "</table>\n",
       "<p>5 rows × 33 columns</p>\n",
       "</div>"
      ],
      "text/plain": [
       "    subreddit subreddit_type subreddit_type               author  created_utc  \\\n",
       "496      Pets         public         public            [deleted]   1586889930   \n",
       "497      Pets         public         public         theblowfish5   1586889928   \n",
       "498      Pets         public         public            [deleted]   1586888557   \n",
       "499      baby         public         public              Mhairib   1583768787   \n",
       "499      Pets         public         public  controlisanillusion   1586888362   \n",
       "\n",
       "    link_flair_text_color link_flair_type  retrieved_on  score  \\\n",
       "496                  dark            text    1586956197      1   \n",
       "497                  dark            text    1586956197      1   \n",
       "498                  dark            text    1586954994      1   \n",
       "499                  dark            text    1583768795      1   \n",
       "499                  dark            text    1586954821      1   \n",
       "\n",
       "     subreddit_subscribers  ... is_original_content is_robot_indexable  \\\n",
       "496                 123337  ...               False              False   \n",
       "497                 123337  ...               False               True   \n",
       "498                 123335  ...               False              False   \n",
       "499                   6774  ...               False               True   \n",
       "499                 123335  ...               False               True   \n",
       "\n",
       "    is_self is_video locked media_only  over_18  pinned  spoiler  stickied  \n",
       "496    True    False  False      False    False   False    False     False  \n",
       "497    True    False  False      False    False   False    False     False  \n",
       "498    True    False  False      False    False   False    False     False  \n",
       "499    True    False  False      False    False   False    False     False  \n",
       "499    True    False  False      False    False   False    False     False  \n",
       "\n",
       "[5 rows x 33 columns]"
      ]
     },
     "execution_count": 226,
     "metadata": {},
     "output_type": "execute_result"
    }
   ],
   "source": [
    "result_df.tail()"
   ]
  },
  {
   "cell_type": "code",
   "execution_count": 227,
   "metadata": {},
   "outputs": [
    {
     "data": {
      "text/plain": [
       "(912, 33)"
      ]
     },
     "execution_count": 227,
     "metadata": {},
     "output_type": "execute_result"
    }
   ],
   "source": [
    "result_df.shape"
   ]
  },
  {
   "cell_type": "markdown",
   "metadata": {},
   "source": [
    "Remove duplicates"
   ]
  },
  {
   "cell_type": "code",
   "execution_count": 228,
   "metadata": {},
   "outputs": [],
   "source": [
    "result_df = result_df.loc[result_df.astype(str).drop_duplicates().index]"
   ]
  },
  {
   "cell_type": "markdown",
   "metadata": {},
   "source": [
    "filtering some columns which are \"_\" == True"
   ]
  },
  {
   "cell_type": "code",
   "execution_count": 229,
   "metadata": {},
   "outputs": [],
   "source": [
    "# filter only `is_self` == True\n",
    "result_df = result_df[result_df[\"is_self\"]]"
   ]
  },
  {
   "cell_type": "code",
   "execution_count": 230,
   "metadata": {
    "scrolled": true
   },
   "outputs": [
    {
     "data": {
      "text/html": [
       "<div>\n",
       "<style scoped>\n",
       "    .dataframe tbody tr th:only-of-type {\n",
       "        vertical-align: middle;\n",
       "    }\n",
       "\n",
       "    .dataframe tbody tr th {\n",
       "        vertical-align: top;\n",
       "    }\n",
       "\n",
       "    .dataframe thead th {\n",
       "        text-align: right;\n",
       "    }\n",
       "</style>\n",
       "<table border=\"1\" class=\"dataframe\">\n",
       "  <thead>\n",
       "    <tr style=\"text-align: right;\">\n",
       "      <th></th>\n",
       "      <th>subreddit</th>\n",
       "      <th>subreddit_type</th>\n",
       "      <th>subreddit_type</th>\n",
       "      <th>author</th>\n",
       "      <th>created_utc</th>\n",
       "      <th>link_flair_text_color</th>\n",
       "      <th>link_flair_type</th>\n",
       "      <th>retrieved_on</th>\n",
       "      <th>score</th>\n",
       "      <th>subreddit_subscribers</th>\n",
       "      <th>...</th>\n",
       "      <th>is_original_content</th>\n",
       "      <th>is_robot_indexable</th>\n",
       "      <th>is_self</th>\n",
       "      <th>is_video</th>\n",
       "      <th>locked</th>\n",
       "      <th>media_only</th>\n",
       "      <th>over_18</th>\n",
       "      <th>pinned</th>\n",
       "      <th>spoiler</th>\n",
       "      <th>stickied</th>\n",
       "    </tr>\n",
       "  </thead>\n",
       "  <tbody>\n",
       "    <tr>\n",
       "      <th>0</th>\n",
       "      <td>Pets</td>\n",
       "      <td>public</td>\n",
       "      <td>public</td>\n",
       "      <td>bs_05</td>\n",
       "      <td>1587472445</td>\n",
       "      <td>dark</td>\n",
       "      <td>text</td>\n",
       "      <td>1587472447</td>\n",
       "      <td>1</td>\n",
       "      <td>124006</td>\n",
       "      <td>...</td>\n",
       "      <td>False</td>\n",
       "      <td>True</td>\n",
       "      <td>True</td>\n",
       "      <td>False</td>\n",
       "      <td>False</td>\n",
       "      <td>False</td>\n",
       "      <td>False</td>\n",
       "      <td>False</td>\n",
       "      <td>False</td>\n",
       "      <td>False</td>\n",
       "    </tr>\n",
       "    <tr>\n",
       "      <th>0</th>\n",
       "      <td>Pets</td>\n",
       "      <td>public</td>\n",
       "      <td>public</td>\n",
       "      <td>bs_05</td>\n",
       "      <td>1587472445</td>\n",
       "      <td>dark</td>\n",
       "      <td>text</td>\n",
       "      <td>1587472447</td>\n",
       "      <td>1</td>\n",
       "      <td>124006</td>\n",
       "      <td>...</td>\n",
       "      <td>False</td>\n",
       "      <td>True</td>\n",
       "      <td>True</td>\n",
       "      <td>False</td>\n",
       "      <td>False</td>\n",
       "      <td>False</td>\n",
       "      <td>False</td>\n",
       "      <td>False</td>\n",
       "      <td>False</td>\n",
       "      <td>False</td>\n",
       "    </tr>\n",
       "    <tr>\n",
       "      <th>1</th>\n",
       "      <td>Pets</td>\n",
       "      <td>public</td>\n",
       "      <td>public</td>\n",
       "      <td>Fredz161099</td>\n",
       "      <td>1587471627</td>\n",
       "      <td>dark</td>\n",
       "      <td>text</td>\n",
       "      <td>1587471629</td>\n",
       "      <td>1</td>\n",
       "      <td>124006</td>\n",
       "      <td>...</td>\n",
       "      <td>False</td>\n",
       "      <td>False</td>\n",
       "      <td>True</td>\n",
       "      <td>False</td>\n",
       "      <td>False</td>\n",
       "      <td>False</td>\n",
       "      <td>False</td>\n",
       "      <td>False</td>\n",
       "      <td>False</td>\n",
       "      <td>False</td>\n",
       "    </tr>\n",
       "    <tr>\n",
       "      <th>1</th>\n",
       "      <td>Pets</td>\n",
       "      <td>public</td>\n",
       "      <td>public</td>\n",
       "      <td>Fredz161099</td>\n",
       "      <td>1587471627</td>\n",
       "      <td>dark</td>\n",
       "      <td>text</td>\n",
       "      <td>1587471629</td>\n",
       "      <td>1</td>\n",
       "      <td>124006</td>\n",
       "      <td>...</td>\n",
       "      <td>False</td>\n",
       "      <td>False</td>\n",
       "      <td>True</td>\n",
       "      <td>False</td>\n",
       "      <td>False</td>\n",
       "      <td>False</td>\n",
       "      <td>False</td>\n",
       "      <td>False</td>\n",
       "      <td>False</td>\n",
       "      <td>False</td>\n",
       "    </tr>\n",
       "    <tr>\n",
       "      <th>2</th>\n",
       "      <td>baby</td>\n",
       "      <td>public</td>\n",
       "      <td>public</td>\n",
       "      <td>Hazzay88</td>\n",
       "      <td>1587449519</td>\n",
       "      <td>dark</td>\n",
       "      <td>text</td>\n",
       "      <td>1587449521</td>\n",
       "      <td>1</td>\n",
       "      <td>7055</td>\n",
       "      <td>...</td>\n",
       "      <td>False</td>\n",
       "      <td>True</td>\n",
       "      <td>True</td>\n",
       "      <td>False</td>\n",
       "      <td>False</td>\n",
       "      <td>False</td>\n",
       "      <td>False</td>\n",
       "      <td>False</td>\n",
       "      <td>False</td>\n",
       "      <td>False</td>\n",
       "    </tr>\n",
       "  </tbody>\n",
       "</table>\n",
       "<p>5 rows × 33 columns</p>\n",
       "</div>"
      ],
      "text/plain": [
       "  subreddit subreddit_type subreddit_type       author  created_utc  \\\n",
       "0      Pets         public         public        bs_05   1587472445   \n",
       "0      Pets         public         public        bs_05   1587472445   \n",
       "1      Pets         public         public  Fredz161099   1587471627   \n",
       "1      Pets         public         public  Fredz161099   1587471627   \n",
       "2      baby         public         public     Hazzay88   1587449519   \n",
       "\n",
       "  link_flair_text_color link_flair_type  retrieved_on  score  \\\n",
       "0                  dark            text    1587472447      1   \n",
       "0                  dark            text    1587472447      1   \n",
       "1                  dark            text    1587471629      1   \n",
       "1                  dark            text    1587471629      1   \n",
       "2                  dark            text    1587449521      1   \n",
       "\n",
       "   subreddit_subscribers  ... is_original_content is_robot_indexable is_self  \\\n",
       "0                 124006  ...               False               True    True   \n",
       "0                 124006  ...               False               True    True   \n",
       "1                 124006  ...               False              False    True   \n",
       "1                 124006  ...               False              False    True   \n",
       "2                   7055  ...               False               True    True   \n",
       "\n",
       "  is_video locked media_only  over_18  pinned  spoiler  stickied  \n",
       "0    False  False      False    False   False    False     False  \n",
       "0    False  False      False    False   False    False     False  \n",
       "1    False  False      False    False   False    False     False  \n",
       "1    False  False      False    False   False    False     False  \n",
       "2    False  False      False    False   False    False     False  \n",
       "\n",
       "[5 rows x 33 columns]"
      ]
     },
     "execution_count": 230,
     "metadata": {},
     "output_type": "execute_result"
    }
   ],
   "source": [
    "result_df.head()"
   ]
  },
  {
   "cell_type": "markdown",
   "metadata": {},
   "source": [
    "Converts epoch time to datetime"
   ]
  },
  {
   "cell_type": "code",
   "execution_count": 231,
   "metadata": {},
   "outputs": [
    {
     "data": {
      "text/plain": [
       "datetime.date(2020, 4, 21)"
      ]
     },
     "execution_count": 231,
     "metadata": {},
     "output_type": "execute_result"
    }
   ],
   "source": [
    "dt.date.fromtimestamp(1587473233)"
   ]
  },
  {
   "cell_type": "markdown",
   "metadata": {},
   "source": [
    "Creating `timestamp` column using `created_utc` column"
   ]
  },
  {
   "cell_type": "code",
   "execution_count": 232,
   "metadata": {},
   "outputs": [
    {
     "data": {
      "text/plain": [
       "0    2020-04-21\n",
       "0    2020-04-21\n",
       "1    2020-04-21\n",
       "1    2020-04-21\n",
       "2    2020-04-21\n",
       "Name: timestamp, dtype: object"
      ]
     },
     "execution_count": 232,
     "metadata": {},
     "output_type": "execute_result"
    }
   ],
   "source": [
    "result_df[\"timestamp\"] = result_df[\"created_utc\"].map(dt.date.fromtimestamp)\n",
    "\n",
    "result_df[\"timestamp\"].head()"
   ]
  },
  {
   "cell_type": "code",
   "execution_count": 233,
   "metadata": {
    "scrolled": true
   },
   "outputs": [
    {
     "data": {
      "text/html": [
       "<div>\n",
       "<style scoped>\n",
       "    .dataframe tbody tr th:only-of-type {\n",
       "        vertical-align: middle;\n",
       "    }\n",
       "\n",
       "    .dataframe tbody tr th {\n",
       "        vertical-align: top;\n",
       "    }\n",
       "\n",
       "    .dataframe thead th {\n",
       "        text-align: right;\n",
       "    }\n",
       "</style>\n",
       "<table border=\"1\" class=\"dataframe\">\n",
       "  <thead>\n",
       "    <tr style=\"text-align: right;\">\n",
       "      <th></th>\n",
       "      <th>subreddit</th>\n",
       "      <th>subreddit_type</th>\n",
       "      <th>subreddit_type</th>\n",
       "      <th>author</th>\n",
       "      <th>created_utc</th>\n",
       "      <th>link_flair_text_color</th>\n",
       "      <th>link_flair_type</th>\n",
       "      <th>retrieved_on</th>\n",
       "      <th>score</th>\n",
       "      <th>subreddit_subscribers</th>\n",
       "      <th>...</th>\n",
       "      <th>is_robot_indexable</th>\n",
       "      <th>is_self</th>\n",
       "      <th>is_video</th>\n",
       "      <th>locked</th>\n",
       "      <th>media_only</th>\n",
       "      <th>over_18</th>\n",
       "      <th>pinned</th>\n",
       "      <th>spoiler</th>\n",
       "      <th>stickied</th>\n",
       "      <th>timestamp</th>\n",
       "    </tr>\n",
       "  </thead>\n",
       "  <tbody>\n",
       "    <tr>\n",
       "      <th>0</th>\n",
       "      <td>Pets</td>\n",
       "      <td>public</td>\n",
       "      <td>public</td>\n",
       "      <td>bs_05</td>\n",
       "      <td>1587472445</td>\n",
       "      <td>dark</td>\n",
       "      <td>text</td>\n",
       "      <td>1587472447</td>\n",
       "      <td>1</td>\n",
       "      <td>124006</td>\n",
       "      <td>...</td>\n",
       "      <td>True</td>\n",
       "      <td>True</td>\n",
       "      <td>False</td>\n",
       "      <td>False</td>\n",
       "      <td>False</td>\n",
       "      <td>False</td>\n",
       "      <td>False</td>\n",
       "      <td>False</td>\n",
       "      <td>False</td>\n",
       "      <td>2020-04-21</td>\n",
       "    </tr>\n",
       "    <tr>\n",
       "      <th>0</th>\n",
       "      <td>Pets</td>\n",
       "      <td>public</td>\n",
       "      <td>public</td>\n",
       "      <td>bs_05</td>\n",
       "      <td>1587472445</td>\n",
       "      <td>dark</td>\n",
       "      <td>text</td>\n",
       "      <td>1587472447</td>\n",
       "      <td>1</td>\n",
       "      <td>124006</td>\n",
       "      <td>...</td>\n",
       "      <td>True</td>\n",
       "      <td>True</td>\n",
       "      <td>False</td>\n",
       "      <td>False</td>\n",
       "      <td>False</td>\n",
       "      <td>False</td>\n",
       "      <td>False</td>\n",
       "      <td>False</td>\n",
       "      <td>False</td>\n",
       "      <td>2020-04-21</td>\n",
       "    </tr>\n",
       "    <tr>\n",
       "      <th>1</th>\n",
       "      <td>Pets</td>\n",
       "      <td>public</td>\n",
       "      <td>public</td>\n",
       "      <td>Fredz161099</td>\n",
       "      <td>1587471627</td>\n",
       "      <td>dark</td>\n",
       "      <td>text</td>\n",
       "      <td>1587471629</td>\n",
       "      <td>1</td>\n",
       "      <td>124006</td>\n",
       "      <td>...</td>\n",
       "      <td>False</td>\n",
       "      <td>True</td>\n",
       "      <td>False</td>\n",
       "      <td>False</td>\n",
       "      <td>False</td>\n",
       "      <td>False</td>\n",
       "      <td>False</td>\n",
       "      <td>False</td>\n",
       "      <td>False</td>\n",
       "      <td>2020-04-21</td>\n",
       "    </tr>\n",
       "    <tr>\n",
       "      <th>1</th>\n",
       "      <td>Pets</td>\n",
       "      <td>public</td>\n",
       "      <td>public</td>\n",
       "      <td>Fredz161099</td>\n",
       "      <td>1587471627</td>\n",
       "      <td>dark</td>\n",
       "      <td>text</td>\n",
       "      <td>1587471629</td>\n",
       "      <td>1</td>\n",
       "      <td>124006</td>\n",
       "      <td>...</td>\n",
       "      <td>False</td>\n",
       "      <td>True</td>\n",
       "      <td>False</td>\n",
       "      <td>False</td>\n",
       "      <td>False</td>\n",
       "      <td>False</td>\n",
       "      <td>False</td>\n",
       "      <td>False</td>\n",
       "      <td>False</td>\n",
       "      <td>2020-04-21</td>\n",
       "    </tr>\n",
       "    <tr>\n",
       "      <th>2</th>\n",
       "      <td>baby</td>\n",
       "      <td>public</td>\n",
       "      <td>public</td>\n",
       "      <td>Hazzay88</td>\n",
       "      <td>1587449519</td>\n",
       "      <td>dark</td>\n",
       "      <td>text</td>\n",
       "      <td>1587449521</td>\n",
       "      <td>1</td>\n",
       "      <td>7055</td>\n",
       "      <td>...</td>\n",
       "      <td>True</td>\n",
       "      <td>True</td>\n",
       "      <td>False</td>\n",
       "      <td>False</td>\n",
       "      <td>False</td>\n",
       "      <td>False</td>\n",
       "      <td>False</td>\n",
       "      <td>False</td>\n",
       "      <td>False</td>\n",
       "      <td>2020-04-21</td>\n",
       "    </tr>\n",
       "  </tbody>\n",
       "</table>\n",
       "<p>5 rows × 34 columns</p>\n",
       "</div>"
      ],
      "text/plain": [
       "  subreddit subreddit_type subreddit_type       author  created_utc  \\\n",
       "0      Pets         public         public        bs_05   1587472445   \n",
       "0      Pets         public         public        bs_05   1587472445   \n",
       "1      Pets         public         public  Fredz161099   1587471627   \n",
       "1      Pets         public         public  Fredz161099   1587471627   \n",
       "2      baby         public         public     Hazzay88   1587449519   \n",
       "\n",
       "  link_flair_text_color link_flair_type  retrieved_on  score  \\\n",
       "0                  dark            text    1587472447      1   \n",
       "0                  dark            text    1587472447      1   \n",
       "1                  dark            text    1587471629      1   \n",
       "1                  dark            text    1587471629      1   \n",
       "2                  dark            text    1587449521      1   \n",
       "\n",
       "   subreddit_subscribers  ... is_robot_indexable is_self is_video locked  \\\n",
       "0                 124006  ...               True    True    False  False   \n",
       "0                 124006  ...               True    True    False  False   \n",
       "1                 124006  ...              False    True    False  False   \n",
       "1                 124006  ...              False    True    False  False   \n",
       "2                   7055  ...               True    True    False  False   \n",
       "\n",
       "  media_only over_18  pinned  spoiler  stickied   timestamp  \n",
       "0      False   False   False    False     False  2020-04-21  \n",
       "0      False   False   False    False     False  2020-04-21  \n",
       "1      False   False   False    False     False  2020-04-21  \n",
       "1      False   False   False    False     False  2020-04-21  \n",
       "2      False   False   False    False     False  2020-04-21  \n",
       "\n",
       "[5 rows x 34 columns]"
      ]
     },
     "execution_count": 233,
     "metadata": {},
     "output_type": "execute_result"
    }
   ],
   "source": [
    "result_df.head()"
   ]
  },
  {
   "cell_type": "markdown",
   "metadata": {},
   "source": [
    "time.sleep()"
   ]
  },
  {
   "cell_type": "code",
   "execution_count": 234,
   "metadata": {},
   "outputs": [
    {
     "name": "stdout",
     "output_type": "stream",
     "text": [
      "0\n",
      "1\n",
      "2\n",
      "3\n",
      "4\n"
     ]
    }
   ],
   "source": [
    "for i in range(5):\n",
    "    print(i)\n",
    "    time.sleep(1)"
   ]
  },
  {
   "cell_type": "markdown",
   "metadata": {},
   "source": [
    "## Automating Multiple Pull Requests\n",
    "\n",
    "Putting it all together: "
   ]
  },
  {
   "cell_type": "code",
   "execution_count": 237,
   "metadata": {},
   "outputs": [],
   "source": [
    "#Credit to Mahdi Shadkam-Farrokhi for function\n",
    "#The below function obtains and \"cleans\" the data from a subreddit. \n",
    "#The below function utilizes the pushshift API\n",
    "def query_pushshift(subreddit, kind = 'submission', day_window = 30, n = 5):\n",
    "    SUBFIELDS = ['subreddit',\"subreddit_type\", 'author',\n",
    "           'created_utc','link_flair_text_color', \n",
    "           'link_flair_type','retrieved_on', 'score',\n",
    "            'subreddit_subscribers', 'subreddit_type',  \n",
    "           'title', 'domain', 'full_link', 'url', \n",
    "        'is_reddit_media_domain', 'no_follow', 'send_replies',   \n",
    "          'can_mod_post', 'contest_mode','is_crosspostable', 'is_meta', \n",
    "        'is_original_content', 'is_robot_indexable', \n",
    "            'is_self', 'is_video','locked', 'media_only',\n",
    "        'over_18','pinned','spoiler', 'stickied']\n",
    "\n",
    "    # establish base url and stem\n",
    "    BASE_URL = f\"https://api.pushshift.io/reddit/search/{kind}\" # also known as the \"API endpoint\" \n",
    "    stem = f\"{BASE_URL}?subreddit={subreddit}&size=500\" # always pulling max of 500\n",
    "    # instantiate empty list for temp storage\n",
    "    posts = []\n",
    "    # implement for loop with `time.sleep(2)`\n",
    "    for i in range(1, n + 1):\n",
    "        URL = \"{}&after={}d\".format(stem, day_window * i)\n",
    "        print(\"Querying from: \" + URL)\n",
    "        response = requests.get(URL)\n",
    "        assert response.status_code == 200\n",
    "        mine = response.json()['data']\n",
    "        df = pd.DataFrame.from_dict(mine)\n",
    "        posts.append(df)\n",
    "        time.sleep(2)\n",
    "    # pd.concat storage list\n",
    "    full = pd.concat(posts, sort=False)\n",
    "    # if submission\n",
    "    if kind == \"submission\":\n",
    "        # select desired columns\n",
    "        full = full[SUBFIELDS]\n",
    "        # drop duplicates\n",
    "        #full.drop_duplicates(inplace = True)\n",
    "        # select `is_self` == True\n",
    "        full = full.loc[full['is_self'] == True]\n",
    "    # create `timestamp` column\n",
    "    full['timestamp'] = full[\"created_utc\"].map(dt.date.fromtimestamp)\n",
    "    print(\"Query Complete!\")    \n",
    "    return full \n",
    "    # if submission\n",
    "    if kind == \"submission\":\n",
    "        # select desired columns\n",
    "        full = full[SUBFIELDS]\n",
    "        # drop duplicates\n",
    "        full.drop_duplicates(inplace = True)\n",
    "        # select `is_self` == True\n",
    "        full = full.loc[full['is_self'] == True]\n",
    "\n",
    "    # create `timestamp` column\n",
    "    full['timestamp'] = full[\"created_utc\"].map(dt.date.fromtimestamp)\n",
    "    \n",
    "    print(\"Query Complete!\")    \n",
    "    return full "
   ]
  },
  {
   "cell_type": "code",
   "execution_count": 238,
   "metadata": {
    "scrolled": false
   },
   "outputs": [
    {
     "name": "stdout",
     "output_type": "stream",
     "text": [
      "Querying from: https://api.pushshift.io/reddit/search/submission?subreddit=baby&size=500&after=30d\n",
      "Querying from: https://api.pushshift.io/reddit/search/submission?subreddit=baby&size=500&after=60d\n",
      "Querying from: https://api.pushshift.io/reddit/search/submission?subreddit=baby&size=500&after=90d\n",
      "Querying from: https://api.pushshift.io/reddit/search/submission?subreddit=baby&size=500&after=120d\n",
      "Querying from: https://api.pushshift.io/reddit/search/submission?subreddit=baby&size=500&after=150d\n",
      "Querying from: https://api.pushshift.io/reddit/search/submission?subreddit=baby&size=500&after=180d\n",
      "Querying from: https://api.pushshift.io/reddit/search/submission?subreddit=baby&size=500&after=210d\n",
      "Querying from: https://api.pushshift.io/reddit/search/submission?subreddit=baby&size=500&after=240d\n",
      "Querying from: https://api.pushshift.io/reddit/search/submission?subreddit=baby&size=500&after=270d\n",
      "Querying from: https://api.pushshift.io/reddit/search/submission?subreddit=baby&size=500&after=300d\n",
      "Query Complete!\n"
     ]
    }
   ],
   "source": [
    "result1 = query_pushshift(\"baby\", n= 10)"
   ]
  },
  {
   "cell_type": "code",
   "execution_count": 239,
   "metadata": {},
   "outputs": [
    {
     "data": {
      "text/plain": [
       "(1724, 32)"
      ]
     },
     "execution_count": 239,
     "metadata": {},
     "output_type": "execute_result"
    }
   ],
   "source": [
    "result1.shape"
   ]
  },
  {
   "cell_type": "code",
   "execution_count": 248,
   "metadata": {},
   "outputs": [],
   "source": [
    "result1.to_csv(\"../data/result1.csv\", index = False)"
   ]
  },
  {
   "cell_type": "code",
   "execution_count": 240,
   "metadata": {
    "scrolled": false
   },
   "outputs": [
    {
     "name": "stdout",
     "output_type": "stream",
     "text": [
      "Querying from: https://api.pushshift.io/reddit/search/submission?subreddit=Pets&size=500&after=30d\n",
      "Querying from: https://api.pushshift.io/reddit/search/submission?subreddit=Pets&size=500&after=60d\n",
      "Querying from: https://api.pushshift.io/reddit/search/submission?subreddit=Pets&size=500&after=90d\n",
      "Querying from: https://api.pushshift.io/reddit/search/submission?subreddit=Pets&size=500&after=120d\n",
      "Querying from: https://api.pushshift.io/reddit/search/submission?subreddit=Pets&size=500&after=150d\n",
      "Querying from: https://api.pushshift.io/reddit/search/submission?subreddit=Pets&size=500&after=180d\n",
      "Querying from: https://api.pushshift.io/reddit/search/submission?subreddit=Pets&size=500&after=210d\n",
      "Querying from: https://api.pushshift.io/reddit/search/submission?subreddit=Pets&size=500&after=240d\n",
      "Querying from: https://api.pushshift.io/reddit/search/submission?subreddit=Pets&size=500&after=270d\n",
      "Querying from: https://api.pushshift.io/reddit/search/submission?subreddit=Pets&size=500&after=300d\n",
      "Query Complete!\n"
     ]
    }
   ],
   "source": [
    "result2 = query_pushshift(\"Pets\", n= 10)"
   ]
  },
  {
   "cell_type": "code",
   "execution_count": 241,
   "metadata": {
    "scrolled": true
   },
   "outputs": [
    {
     "data": {
      "text/plain": [
       "(2959, 32)"
      ]
     },
     "execution_count": 241,
     "metadata": {},
     "output_type": "execute_result"
    }
   ],
   "source": [
    "result2.shape"
   ]
  },
  {
   "cell_type": "code",
   "execution_count": 249,
   "metadata": {},
   "outputs": [],
   "source": [
    "result2.to_csv(\"../data/result2.csv\", index = False)"
   ]
  },
  {
   "cell_type": "markdown",
   "metadata": {},
   "source": [
    "Combining Data and checking shape"
   ]
  },
  {
   "cell_type": "code",
   "execution_count": 242,
   "metadata": {
    "scrolled": true
   },
   "outputs": [
    {
     "data": {
      "text/plain": [
       "(4683, 32)"
      ]
     },
     "execution_count": 242,
     "metadata": {},
     "output_type": "execute_result"
    }
   ],
   "source": [
    "combined_db = pd.concat([result1, result2], sort = False)\n",
    "combined_db.shape"
   ]
  },
  {
   "cell_type": "markdown",
   "metadata": {},
   "source": [
    "Store after pulling data"
   ]
  },
  {
   "cell_type": "code",
   "execution_count": 244,
   "metadata": {},
   "outputs": [],
   "source": [
    "combined_db.to_csv(\"../data/combined_db.csv\", index = False)"
   ]
  },
  {
   "cell_type": "markdown",
   "metadata": {},
   "source": [
    "We will continue next procedure in next notebook"
   ]
  }
 ],
 "metadata": {
  "kernelspec": {
   "display_name": "Python 3",
   "language": "python",
   "name": "python3"
  },
  "language_info": {
   "codemirror_mode": {
    "name": "ipython",
    "version": 3
   },
   "file_extension": ".py",
   "mimetype": "text/x-python",
   "name": "python",
   "nbconvert_exporter": "python",
   "pygments_lexer": "ipython3",
   "version": "3.7.6"
  }
 },
 "nbformat": 4,
 "nbformat_minor": 4
}
