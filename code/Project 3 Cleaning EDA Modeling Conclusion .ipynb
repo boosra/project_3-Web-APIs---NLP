{
 "cells": [
  {
   "cell_type": "markdown",
   "metadata": {},
   "source": [
    "# Project 3 Data Cleaning & EDA"
   ]
  },
  {
   "cell_type": "markdown",
   "metadata": {},
   "source": [
    "## Contents:"
   ]
  },
  {
   "cell_type": "markdown",
   "metadata": {},
   "source": [
    "- **[Import Libraries](#Import-Libraries)**.  \n",
    "    \n",
    "- **[Data Cleaning & EDA](#Data-Cleaning-Exploratory-Data-Analysis)**.  \n",
    "\n",
    "- **[Model Preparation](#Model-Preparation)**. \n",
    "\n",
    " - **[Modeling](#Modeling)**.  \n",
    "   - **[Baseline Model](#Baseline-Model)**. \n",
    "   - **[Pipeline Models](#Pipeline-Models)**. \n",
    "   - **[Logistic Regression Models](#Logistic-Regression-Models)**. \n",
    "   - **[Naive Bayes Models](#Naive-Bayes-Models)**.  \n",
    "   - **[Random Forest](#Random-Forest)**.  \n",
    "   - **[Extra Trees](#Extra-Trees)**.  \n",
    "   - **[Bagging Classifier](#Baggin-Classifier)**.  \n",
    "   - **[DecisionTreeClassifier](#DecisionTreeClassifier)**.  \n",
    "   \n",
    "   \n",
    "- **[Model Evaluation](#Model-Evaluation)**.  \n",
    "\n",
    "- **[Conclusions and Recommendations](#Conclusions-and-Recommendations)**.  \n",
    "\n",
    "- **[References](#References)**."
   ]
  },
  {
   "cell_type": "markdown",
   "metadata": {},
   "source": [
    "### Import Libraries"
   ]
  },
  {
   "cell_type": "code",
   "execution_count": 7,
   "metadata": {},
   "outputs": [],
   "source": [
    "import warnings\n",
    "warnings.filterwarnings(\"ignore\")\n",
    "\n",
    "import pandas as pd\n",
    "import numpy as np\n",
    "\n",
    "from nltk.tokenize import RegexpTokenizer\n",
    "from nltk.stem import WordNetLemmatizer\n",
    "from nltk.corpus import stopwords\n",
    "import re\n",
    "import seaborn as sns\n",
    "\n",
    "from sklearn.model_selection import train_test_split, cross_val_score\n",
    "from sklearn.preprocessing import StandardScaler, MinMaxScaler\n",
    "from sklearn.linear_model import LogisticRegression\n",
    "from sklearn.feature_extraction.text import CountVectorizer, TfidfVectorizer\n",
    "from sklearn.ensemble import RandomForestClassifier, ExtraTreesClassifier, BaggingClassifier\n",
    "from sklearn.dummy import DummyClassifier\n",
    "from sklearn.metrics import confusion_matrix, accuracy_score\n",
    "from sklearn.tree import DecisionTreeClassifier, plot_tree, export_text\n",
    "\n",
    "\n",
    "from sklearn.naive_bayes import MultinomialNB, BernoulliNB\n",
    "from sklearn.neighbors import KNeighborsClassifier\n",
    "from sklearn.model_selection import GridSearchCV\n",
    "import time\n",
    "from sklearn.pipeline import Pipeline\n",
    "\n",
    "\n",
    "import matplotlib.pyplot as plt\n",
    "%matplotlib inline"
   ]
  },
  {
   "cell_type": "markdown",
   "metadata": {},
   "source": [
    "#### Reading csv files"
   ]
  },
  {
   "cell_type": "code",
   "execution_count": 8,
   "metadata": {},
   "outputs": [],
   "source": [
    "baby_data = pd.read_csv('../data/result1.csv')"
   ]
  },
  {
   "cell_type": "code",
   "execution_count": 9,
   "metadata": {},
   "outputs": [
    {
     "data": {
      "text/plain": [
       "(1724, 32)"
      ]
     },
     "execution_count": 9,
     "metadata": {},
     "output_type": "execute_result"
    }
   ],
   "source": [
    "baby_data.shape"
   ]
  },
  {
   "cell_type": "code",
   "execution_count": 10,
   "metadata": {},
   "outputs": [],
   "source": [
    "Pets_data = pd.read_csv('../data/result2.csv')"
   ]
  },
  {
   "cell_type": "code",
   "execution_count": 11,
   "metadata": {},
   "outputs": [
    {
     "data": {
      "text/plain": [
       "(2959, 32)"
      ]
     },
     "execution_count": 11,
     "metadata": {},
     "output_type": "execute_result"
    }
   ],
   "source": [
    "Pets_data.shape"
   ]
  },
  {
   "cell_type": "markdown",
   "metadata": {},
   "source": [
    "Frequency of classes are similar in both data. There is no need to stratify or correct for imbalanced data"
   ]
  },
  {
   "cell_type": "code",
   "execution_count": 12,
   "metadata": {},
   "outputs": [],
   "source": [
    "comb_data = pd.read_csv('../data/combined_db.csv') "
   ]
  },
  {
   "cell_type": "markdown",
   "metadata": {},
   "source": [
    "### Data cleaning & EDA"
   ]
  },
  {
   "cell_type": "code",
   "execution_count": 13,
   "metadata": {
    "scrolled": true
   },
   "outputs": [
    {
     "data": {
      "text/html": [
       "<div>\n",
       "<style scoped>\n",
       "    .dataframe tbody tr th:only-of-type {\n",
       "        vertical-align: middle;\n",
       "    }\n",
       "\n",
       "    .dataframe tbody tr th {\n",
       "        vertical-align: top;\n",
       "    }\n",
       "\n",
       "    .dataframe thead th {\n",
       "        text-align: right;\n",
       "    }\n",
       "</style>\n",
       "<table border=\"1\" class=\"dataframe\">\n",
       "  <thead>\n",
       "    <tr style=\"text-align: right;\">\n",
       "      <th></th>\n",
       "      <th>subreddit</th>\n",
       "      <th>subreddit_type</th>\n",
       "      <th>author</th>\n",
       "      <th>created_utc</th>\n",
       "      <th>link_flair_text_color</th>\n",
       "      <th>link_flair_type</th>\n",
       "      <th>retrieved_on</th>\n",
       "      <th>score</th>\n",
       "      <th>subreddit_subscribers</th>\n",
       "      <th>subreddit_type.1</th>\n",
       "      <th>...</th>\n",
       "      <th>is_robot_indexable</th>\n",
       "      <th>is_self</th>\n",
       "      <th>is_video</th>\n",
       "      <th>locked</th>\n",
       "      <th>media_only</th>\n",
       "      <th>over_18</th>\n",
       "      <th>pinned</th>\n",
       "      <th>spoiler</th>\n",
       "      <th>stickied</th>\n",
       "      <th>timestamp</th>\n",
       "    </tr>\n",
       "  </thead>\n",
       "  <tbody>\n",
       "    <tr>\n",
       "      <th>0</th>\n",
       "      <td>baby</td>\n",
       "      <td>public</td>\n",
       "      <td>purehoopla</td>\n",
       "      <td>1584915670</td>\n",
       "      <td>dark</td>\n",
       "      <td>text</td>\n",
       "      <td>1584915676</td>\n",
       "      <td>1</td>\n",
       "      <td>6852</td>\n",
       "      <td>public</td>\n",
       "      <td>...</td>\n",
       "      <td>False</td>\n",
       "      <td>True</td>\n",
       "      <td>False</td>\n",
       "      <td>False</td>\n",
       "      <td>False</td>\n",
       "      <td>False</td>\n",
       "      <td>False</td>\n",
       "      <td>False</td>\n",
       "      <td>False</td>\n",
       "      <td>2020-03-22</td>\n",
       "    </tr>\n",
       "    <tr>\n",
       "      <th>1</th>\n",
       "      <td>baby</td>\n",
       "      <td>public</td>\n",
       "      <td>Renegade626</td>\n",
       "      <td>1584933321</td>\n",
       "      <td>dark</td>\n",
       "      <td>text</td>\n",
       "      <td>1584933322</td>\n",
       "      <td>1</td>\n",
       "      <td>6855</td>\n",
       "      <td>public</td>\n",
       "      <td>...</td>\n",
       "      <td>True</td>\n",
       "      <td>True</td>\n",
       "      <td>False</td>\n",
       "      <td>False</td>\n",
       "      <td>False</td>\n",
       "      <td>False</td>\n",
       "      <td>False</td>\n",
       "      <td>False</td>\n",
       "      <td>False</td>\n",
       "      <td>2020-03-22</td>\n",
       "    </tr>\n",
       "    <tr>\n",
       "      <th>2</th>\n",
       "      <td>baby</td>\n",
       "      <td>public</td>\n",
       "      <td>mytrendybabystore</td>\n",
       "      <td>1584983015</td>\n",
       "      <td>dark</td>\n",
       "      <td>text</td>\n",
       "      <td>1584983020</td>\n",
       "      <td>1</td>\n",
       "      <td>6856</td>\n",
       "      <td>public</td>\n",
       "      <td>...</td>\n",
       "      <td>False</td>\n",
       "      <td>True</td>\n",
       "      <td>False</td>\n",
       "      <td>False</td>\n",
       "      <td>False</td>\n",
       "      <td>False</td>\n",
       "      <td>False</td>\n",
       "      <td>False</td>\n",
       "      <td>False</td>\n",
       "      <td>2020-03-23</td>\n",
       "    </tr>\n",
       "    <tr>\n",
       "      <th>3</th>\n",
       "      <td>baby</td>\n",
       "      <td>public</td>\n",
       "      <td>mytrendybabystore</td>\n",
       "      <td>1584988382</td>\n",
       "      <td>dark</td>\n",
       "      <td>text</td>\n",
       "      <td>1584988392</td>\n",
       "      <td>1</td>\n",
       "      <td>6857</td>\n",
       "      <td>public</td>\n",
       "      <td>...</td>\n",
       "      <td>False</td>\n",
       "      <td>True</td>\n",
       "      <td>False</td>\n",
       "      <td>False</td>\n",
       "      <td>False</td>\n",
       "      <td>False</td>\n",
       "      <td>False</td>\n",
       "      <td>False</td>\n",
       "      <td>False</td>\n",
       "      <td>2020-03-23</td>\n",
       "    </tr>\n",
       "    <tr>\n",
       "      <th>4</th>\n",
       "      <td>baby</td>\n",
       "      <td>public</td>\n",
       "      <td>kellimoxie</td>\n",
       "      <td>1585016982</td>\n",
       "      <td>dark</td>\n",
       "      <td>text</td>\n",
       "      <td>1585016988</td>\n",
       "      <td>1</td>\n",
       "      <td>6860</td>\n",
       "      <td>public</td>\n",
       "      <td>...</td>\n",
       "      <td>True</td>\n",
       "      <td>True</td>\n",
       "      <td>False</td>\n",
       "      <td>False</td>\n",
       "      <td>False</td>\n",
       "      <td>False</td>\n",
       "      <td>False</td>\n",
       "      <td>False</td>\n",
       "      <td>False</td>\n",
       "      <td>2020-03-23</td>\n",
       "    </tr>\n",
       "  </tbody>\n",
       "</table>\n",
       "<p>5 rows × 32 columns</p>\n",
       "</div>"
      ],
      "text/plain": [
       "  subreddit subreddit_type             author  created_utc  \\\n",
       "0      baby         public         purehoopla   1584915670   \n",
       "1      baby         public        Renegade626   1584933321   \n",
       "2      baby         public  mytrendybabystore   1584983015   \n",
       "3      baby         public  mytrendybabystore   1584988382   \n",
       "4      baby         public         kellimoxie   1585016982   \n",
       "\n",
       "  link_flair_text_color link_flair_type  retrieved_on  score  \\\n",
       "0                  dark            text    1584915676      1   \n",
       "1                  dark            text    1584933322      1   \n",
       "2                  dark            text    1584983020      1   \n",
       "3                  dark            text    1584988392      1   \n",
       "4                  dark            text    1585016988      1   \n",
       "\n",
       "   subreddit_subscribers subreddit_type.1  ... is_robot_indexable is_self  \\\n",
       "0                   6852           public  ...              False    True   \n",
       "1                   6855           public  ...               True    True   \n",
       "2                   6856           public  ...              False    True   \n",
       "3                   6857           public  ...              False    True   \n",
       "4                   6860           public  ...               True    True   \n",
       "\n",
       "  is_video locked  media_only  over_18  pinned  spoiler  stickied   timestamp  \n",
       "0    False  False       False    False   False    False     False  2020-03-22  \n",
       "1    False  False       False    False   False    False     False  2020-03-22  \n",
       "2    False  False       False    False   False    False     False  2020-03-23  \n",
       "3    False  False       False    False   False    False     False  2020-03-23  \n",
       "4    False  False       False    False   False    False     False  2020-03-23  \n",
       "\n",
       "[5 rows x 32 columns]"
      ]
     },
     "execution_count": 13,
     "metadata": {},
     "output_type": "execute_result"
    }
   ],
   "source": [
    "comb_data.head()"
   ]
  },
  {
   "cell_type": "markdown",
   "metadata": {},
   "source": [
    "checking null value"
   ]
  },
  {
   "cell_type": "code",
   "execution_count": 14,
   "metadata": {},
   "outputs": [
    {
     "data": {
      "text/plain": [
       "0"
      ]
     },
     "execution_count": 14,
     "metadata": {},
     "output_type": "execute_result"
    }
   ],
   "source": [
    "comb_data.isnull().sum().sum()"
   ]
  },
  {
   "cell_type": "markdown",
   "metadata": {},
   "source": [
    "There is no null values."
   ]
  },
  {
   "cell_type": "code",
   "execution_count": 15,
   "metadata": {},
   "outputs": [
    {
     "data": {
      "text/plain": [
       "subreddit                 object\n",
       "subreddit_type            object\n",
       "author                    object\n",
       "created_utc                int64\n",
       "link_flair_text_color     object\n",
       "link_flair_type           object\n",
       "retrieved_on               int64\n",
       "score                      int64\n",
       "subreddit_subscribers      int64\n",
       "subreddit_type.1          object\n",
       "title                     object\n",
       "domain                    object\n",
       "full_link                 object\n",
       "url                       object\n",
       "is_reddit_media_domain      bool\n",
       "no_follow                   bool\n",
       "send_replies                bool\n",
       "can_mod_post                bool\n",
       "contest_mode                bool\n",
       "is_crosspostable            bool\n",
       "is_meta                     bool\n",
       "is_original_content         bool\n",
       "is_robot_indexable          bool\n",
       "is_self                     bool\n",
       "is_video                    bool\n",
       "locked                      bool\n",
       "media_only                  bool\n",
       "over_18                     bool\n",
       "pinned                      bool\n",
       "spoiler                     bool\n",
       "stickied                    bool\n",
       "timestamp                 object\n",
       "dtype: object"
      ]
     },
     "execution_count": 15,
     "metadata": {},
     "output_type": "execute_result"
    }
   ],
   "source": [
    "comb_data.dtypes"
   ]
  },
  {
   "cell_type": "code",
   "execution_count": 16,
   "metadata": {
    "scrolled": true
   },
   "outputs": [
    {
     "data": {
      "text/plain": [
       "Pets    2959\n",
       "baby    1724\n",
       "Name: subreddit, dtype: int64"
      ]
     },
     "execution_count": 16,
     "metadata": {},
     "output_type": "execute_result"
    }
   ],
   "source": [
    "comb_data['subreddit'].value_counts()"
   ]
  },
  {
   "cell_type": "markdown",
   "metadata": {},
   "source": [
    "Create Binary y column based on subreddit name"
   ]
  },
  {
   "cell_type": "code",
   "execution_count": 17,
   "metadata": {
    "scrolled": true
   },
   "outputs": [
    {
     "data": {
      "text/html": [
       "<div>\n",
       "<style scoped>\n",
       "    .dataframe tbody tr th:only-of-type {\n",
       "        vertical-align: middle;\n",
       "    }\n",
       "\n",
       "    .dataframe tbody tr th {\n",
       "        vertical-align: top;\n",
       "    }\n",
       "\n",
       "    .dataframe thead th {\n",
       "        text-align: right;\n",
       "    }\n",
       "</style>\n",
       "<table border=\"1\" class=\"dataframe\">\n",
       "  <thead>\n",
       "    <tr style=\"text-align: right;\">\n",
       "      <th></th>\n",
       "      <th>subreddit</th>\n",
       "      <th>subreddit_type</th>\n",
       "      <th>author</th>\n",
       "      <th>created_utc</th>\n",
       "      <th>link_flair_text_color</th>\n",
       "      <th>link_flair_type</th>\n",
       "      <th>retrieved_on</th>\n",
       "      <th>score</th>\n",
       "      <th>subreddit_subscribers</th>\n",
       "      <th>subreddit_type.1</th>\n",
       "      <th>...</th>\n",
       "      <th>is_self</th>\n",
       "      <th>is_video</th>\n",
       "      <th>locked</th>\n",
       "      <th>media_only</th>\n",
       "      <th>over_18</th>\n",
       "      <th>pinned</th>\n",
       "      <th>spoiler</th>\n",
       "      <th>stickied</th>\n",
       "      <th>timestamp</th>\n",
       "      <th>y</th>\n",
       "    </tr>\n",
       "  </thead>\n",
       "  <tbody>\n",
       "    <tr>\n",
       "      <th>0</th>\n",
       "      <td>baby</td>\n",
       "      <td>public</td>\n",
       "      <td>purehoopla</td>\n",
       "      <td>1584915670</td>\n",
       "      <td>dark</td>\n",
       "      <td>text</td>\n",
       "      <td>1584915676</td>\n",
       "      <td>1</td>\n",
       "      <td>6852</td>\n",
       "      <td>public</td>\n",
       "      <td>...</td>\n",
       "      <td>True</td>\n",
       "      <td>False</td>\n",
       "      <td>False</td>\n",
       "      <td>False</td>\n",
       "      <td>False</td>\n",
       "      <td>False</td>\n",
       "      <td>False</td>\n",
       "      <td>False</td>\n",
       "      <td>2020-03-22</td>\n",
       "      <td>1</td>\n",
       "    </tr>\n",
       "    <tr>\n",
       "      <th>1</th>\n",
       "      <td>baby</td>\n",
       "      <td>public</td>\n",
       "      <td>Renegade626</td>\n",
       "      <td>1584933321</td>\n",
       "      <td>dark</td>\n",
       "      <td>text</td>\n",
       "      <td>1584933322</td>\n",
       "      <td>1</td>\n",
       "      <td>6855</td>\n",
       "      <td>public</td>\n",
       "      <td>...</td>\n",
       "      <td>True</td>\n",
       "      <td>False</td>\n",
       "      <td>False</td>\n",
       "      <td>False</td>\n",
       "      <td>False</td>\n",
       "      <td>False</td>\n",
       "      <td>False</td>\n",
       "      <td>False</td>\n",
       "      <td>2020-03-22</td>\n",
       "      <td>1</td>\n",
       "    </tr>\n",
       "  </tbody>\n",
       "</table>\n",
       "<p>2 rows × 33 columns</p>\n",
       "</div>"
      ],
      "text/plain": [
       "  subreddit subreddit_type       author  created_utc link_flair_text_color  \\\n",
       "0      baby         public   purehoopla   1584915670                  dark   \n",
       "1      baby         public  Renegade626   1584933321                  dark   \n",
       "\n",
       "  link_flair_type  retrieved_on  score  subreddit_subscribers  \\\n",
       "0            text    1584915676      1                   6852   \n",
       "1            text    1584933322      1                   6855   \n",
       "\n",
       "  subreddit_type.1  ... is_self is_video locked media_only  over_18  pinned  \\\n",
       "0           public  ...    True    False  False      False    False   False   \n",
       "1           public  ...    True    False  False      False    False   False   \n",
       "\n",
       "   spoiler  stickied   timestamp  y  \n",
       "0    False     False  2020-03-22  1  \n",
       "1    False     False  2020-03-22  1  \n",
       "\n",
       "[2 rows x 33 columns]"
      ]
     },
     "execution_count": 17,
     "metadata": {},
     "output_type": "execute_result"
    }
   ],
   "source": [
    "comb_data['y'] = comb_data['subreddit'].map(lambda x: 1 if x == 'baby' else 0)\n",
    "\n",
    "comb_data.head(2)"
   ]
  },
  {
   "cell_type": "code",
   "execution_count": 18,
   "metadata": {
    "scrolled": false
   },
   "outputs": [
    {
     "data": {
      "text/plain": [
       "0    0.63186\n",
       "1    0.36814\n",
       "Name: y, dtype: float64"
      ]
     },
     "execution_count": 18,
     "metadata": {},
     "output_type": "execute_result"
    }
   ],
   "source": [
    "comb_data['y'].value_counts(normalize=True)"
   ]
  },
  {
   "cell_type": "markdown",
   "metadata": {},
   "source": [
    "Here O is for Pets and 1 is for baby.So for our model 1 stands for positive prediction and 0 stands for negative prediction."
   ]
  },
  {
   "cell_type": "code",
   "execution_count": 20,
   "metadata": {},
   "outputs": [],
   "source": [
    "#comb_data['title']"
   ]
  },
  {
   "cell_type": "markdown",
   "metadata": {},
   "source": [
    "Let create a function to tokenize,Lemmatizing & Stemming data"
   ]
  },
  {
   "cell_type": "code",
   "execution_count": 21,
   "metadata": {},
   "outputs": [],
   "source": [
    "def clean_text(text_to_clean):\n",
    "    # subs charact in the brackets\n",
    "    text_to_clean = re.sub( '[^a-zA-Z0-9]', ' ', text_to_clean)\n",
    "    # subs tabs,newlines and \"whitespace-like\"\n",
    "    text_to_clean = re.sub( '\\s+', ' ', text_to_clean).strip()\n",
    "    # convert to lowercase split indv words\n",
    "    words = text_to_clean.lower().split() \n",
    "    #converting stop words to set\n",
    "    stops = set(stopwords.words('english')) \n",
    "    # removing stop words\n",
    "    meaningful_words = [w for w in words if not w in stops] \n",
    "    #Join the words back into one string separated by space, \n",
    "    # and return the result.\n",
    "    return(\" \".join(meaningful_words))"
   ]
  },
  {
   "cell_type": "code",
   "execution_count": 22,
   "metadata": {},
   "outputs": [],
   "source": [
    "comb_data['clean_title'] = comb_data.apply(lambda x: clean_text(x['title']), axis=1)"
   ]
  },
  {
   "cell_type": "code",
   "execution_count": 23,
   "metadata": {},
   "outputs": [],
   "source": [
    "comb_data['clean_url']=comb_data.apply(lambda x: clean_text(x['url']), axis=1)"
   ]
  },
  {
   "cell_type": "code",
   "execution_count": 24,
   "metadata": {},
   "outputs": [],
   "source": [
    "comb_data['clean_full_link']=comb_data.apply(lambda x: clean_text(x['full_link']), axis=1)"
   ]
  },
  {
   "cell_type": "code",
   "execution_count": 25,
   "metadata": {
    "scrolled": true
   },
   "outputs": [
    {
     "data": {
      "text/html": [
       "<div>\n",
       "<style scoped>\n",
       "    .dataframe tbody tr th:only-of-type {\n",
       "        vertical-align: middle;\n",
       "    }\n",
       "\n",
       "    .dataframe tbody tr th {\n",
       "        vertical-align: top;\n",
       "    }\n",
       "\n",
       "    .dataframe thead th {\n",
       "        text-align: right;\n",
       "    }\n",
       "</style>\n",
       "<table border=\"1\" class=\"dataframe\">\n",
       "  <thead>\n",
       "    <tr style=\"text-align: right;\">\n",
       "      <th></th>\n",
       "      <th>subreddit</th>\n",
       "      <th>subreddit_type</th>\n",
       "      <th>author</th>\n",
       "      <th>created_utc</th>\n",
       "      <th>link_flair_text_color</th>\n",
       "      <th>link_flair_type</th>\n",
       "      <th>retrieved_on</th>\n",
       "      <th>score</th>\n",
       "      <th>subreddit_subscribers</th>\n",
       "      <th>subreddit_type.1</th>\n",
       "      <th>...</th>\n",
       "      <th>media_only</th>\n",
       "      <th>over_18</th>\n",
       "      <th>pinned</th>\n",
       "      <th>spoiler</th>\n",
       "      <th>stickied</th>\n",
       "      <th>timestamp</th>\n",
       "      <th>y</th>\n",
       "      <th>clean_title</th>\n",
       "      <th>clean_url</th>\n",
       "      <th>clean_full_link</th>\n",
       "    </tr>\n",
       "  </thead>\n",
       "  <tbody>\n",
       "    <tr>\n",
       "      <th>0</th>\n",
       "      <td>baby</td>\n",
       "      <td>public</td>\n",
       "      <td>purehoopla</td>\n",
       "      <td>1584915670</td>\n",
       "      <td>dark</td>\n",
       "      <td>text</td>\n",
       "      <td>1584915676</td>\n",
       "      <td>1</td>\n",
       "      <td>6852</td>\n",
       "      <td>public</td>\n",
       "      <td>...</td>\n",
       "      <td>False</td>\n",
       "      <td>False</td>\n",
       "      <td>False</td>\n",
       "      <td>False</td>\n",
       "      <td>False</td>\n",
       "      <td>2020-03-22</td>\n",
       "      <td>1</td>\n",
       "      <td>like pregnant right</td>\n",
       "      <td>https www reddit com r baby comments fn8hsd li...</td>\n",
       "      <td>https www reddit com r baby comments fn8hsd li...</td>\n",
       "    </tr>\n",
       "    <tr>\n",
       "      <th>1</th>\n",
       "      <td>baby</td>\n",
       "      <td>public</td>\n",
       "      <td>Renegade626</td>\n",
       "      <td>1584933321</td>\n",
       "      <td>dark</td>\n",
       "      <td>text</td>\n",
       "      <td>1584933322</td>\n",
       "      <td>1</td>\n",
       "      <td>6855</td>\n",
       "      <td>public</td>\n",
       "      <td>...</td>\n",
       "      <td>False</td>\n",
       "      <td>False</td>\n",
       "      <td>False</td>\n",
       "      <td>False</td>\n",
       "      <td>False</td>\n",
       "      <td>2020-03-22</td>\n",
       "      <td>1</td>\n",
       "      <td>tummy sleeper wakes several times</td>\n",
       "      <td>https www reddit com r baby comments fncyve tu...</td>\n",
       "      <td>https www reddit com r baby comments fncyve tu...</td>\n",
       "    </tr>\n",
       "  </tbody>\n",
       "</table>\n",
       "<p>2 rows × 36 columns</p>\n",
       "</div>"
      ],
      "text/plain": [
       "  subreddit subreddit_type       author  created_utc link_flair_text_color  \\\n",
       "0      baby         public   purehoopla   1584915670                  dark   \n",
       "1      baby         public  Renegade626   1584933321                  dark   \n",
       "\n",
       "  link_flair_type  retrieved_on  score  subreddit_subscribers  \\\n",
       "0            text    1584915676      1                   6852   \n",
       "1            text    1584933322      1                   6855   \n",
       "\n",
       "  subreddit_type.1  ... media_only over_18 pinned spoiler  stickied  \\\n",
       "0           public  ...      False   False  False   False     False   \n",
       "1           public  ...      False   False  False   False     False   \n",
       "\n",
       "    timestamp  y                        clean_title  \\\n",
       "0  2020-03-22  1                like pregnant right   \n",
       "1  2020-03-22  1  tummy sleeper wakes several times   \n",
       "\n",
       "                                           clean_url  \\\n",
       "0  https www reddit com r baby comments fn8hsd li...   \n",
       "1  https www reddit com r baby comments fncyve tu...   \n",
       "\n",
       "                                     clean_full_link  \n",
       "0  https www reddit com r baby comments fn8hsd li...  \n",
       "1  https www reddit com r baby comments fncyve tu...  \n",
       "\n",
       "[2 rows x 36 columns]"
      ]
     },
     "execution_count": 25,
     "metadata": {},
     "output_type": "execute_result"
    }
   ],
   "source": [
    "comb_data.head(2)"
   ]
  },
  {
   "cell_type": "markdown",
   "metadata": {},
   "source": [
    "### Model Preparation "
   ]
  },
  {
   "cell_type": "markdown",
   "metadata": {},
   "source": [
    "establish X and Y"
   ]
  },
  {
   "cell_type": "code",
   "execution_count": 26,
   "metadata": {},
   "outputs": [],
   "source": [
    "X = comb_data['clean_title']\n",
    "y = comb_data['y']"
   ]
  },
  {
   "cell_type": "markdown",
   "metadata": {},
   "source": [
    "Split data into training and testing sets"
   ]
  },
  {
   "cell_type": "code",
   "execution_count": 27,
   "metadata": {},
   "outputs": [],
   "source": [
    "X_train, X_test, y_train, y_test = train_test_split(X, y, random_state = 42, stratify = y)"
   ]
  },
  {
   "cell_type": "code",
   "execution_count": 28,
   "metadata": {},
   "outputs": [],
   "source": [
    "cv = CountVectorizer()\n",
    "tvect = TfidfVectorizer()"
   ]
  },
  {
   "cell_type": "markdown",
   "metadata": {},
   "source": [
    "#### Stopwords"
   ]
  },
  {
   "cell_type": "markdown",
   "metadata": {},
   "source": [
    "Let's look at sklearn's stopwords."
   ]
  },
  {
   "cell_type": "code",
   "execution_count": 72,
   "metadata": {},
   "outputs": [],
   "source": [
    "cv = CountVectorizer(analyzer = \"word\", \n",
    "                    stop_words = \"english\", \n",
    "                     max_features = 10,\n",
    "                    ngram_range= (1,2))\n",
    "#fit & transform\n",
    "dt_words = cv.fit_transform(comb_data['title'])  \n",
    "dt_words = dt_words.toarray()\n"
   ]
  },
  {
   "cell_type": "code",
   "execution_count": 74,
   "metadata": {},
   "outputs": [],
   "source": [
    "cv_df = pd.DataFrame(dt_words, columns = cv.get_feature_names())"
   ]
  },
  {
   "cell_type": "markdown",
   "metadata": {},
   "source": [
    "ploting the most frequent words in title"
   ]
  },
  {
   "cell_type": "code",
   "execution_count": 80,
   "metadata": {
    "scrolled": true
   },
   "outputs": [
    {
     "data": {
      "image/png": "[encoded data removed]",
      "text/plain": [
       "<Figure size 1080x720 with 1 Axes>"
      ]
     },
     "metadata": {},
     "output_type": "display_data"
    }
   ],
   "source": [
    "plt.figure(figsize = (15,10))\n",
    "\n",
    "plt.style.use('seaborn')\n",
    "cv_df.sum().sort_values(ascending=False).plot(kind = 'barh', color ='b', fontsize = 30)\n",
    "plt.title(\"10 Most frequent Words used in the titles in comb_data\", fontsize = 20)\n",
    "plt.xlabel('Frequency', fontsize =20)\n",
    "plt.ylabel ('words', fontsize = 20);"
   ]
  },
  {
   "cell_type": "markdown",
   "metadata": {},
   "source": [
    "Here frequency of word 'cat' is way higher than other words in the whole dataset and 'baby' is in third position in the dataset."
   ]
  },
  {
   "cell_type": "code",
   "execution_count": 29,
   "metadata": {},
   "outputs": [],
   "source": [
    "#print(CountVectorizer(stop_words = 'english').get_stop_words())"
   ]
  },
  {
   "cell_type": "markdown",
   "metadata": {},
   "source": [
    "Let us pick some unnecessary stopwords and make STOP_WORD.which we can use in further models."
   ]
  },
  {
   "cell_type": "code",
   "execution_count": 30,
   "metadata": {},
   "outputs": [],
   "source": [
    "STOP_WORD = ['eg', 'un', 'am', 'ltd', 'etc', 'may', 'my', 'thru', 'for',\n",
    "                                'from', 'inc', 'con', 'more', 'ie', ]"
   ]
  },
  {
   "cell_type": "code",
   "execution_count": 55,
   "metadata": {
    "scrolled": false
   },
   "outputs": [
    {
     "data": {
      "image/png": "[encoded data removed]",
      "text/plain": [
       "<Figure size 432x288 with 1 Axes>"
      ]
     },
     "metadata": {
      "needs_background": "light"
     },
     "output_type": "display_data"
    }
   ],
   "source": [
    "# Plot the lengths of the words.\n",
    "plt.hist(len(STOP_WORD))\n",
    "# Set x label\n",
    "plt.xlabel(\"length\")\n",
    "# Set y label\n",
    "plt.ylabel(\"Words\")\n",
    "plt.title('Histogram of Word Lengths');"
   ]
  },
  {
   "cell_type": "markdown",
   "metadata": {},
   "source": [
    "Thus length of our stopwords are between 14.0 to 14.2."
   ]
  },
  {
   "cell_type": "code",
   "execution_count": 32,
   "metadata": {},
   "outputs": [],
   "source": [
    "cv = CountVectorizer(stop_words= STOP_WORD)\n",
    "tvect = TfidfVectorizer(stop_words = STOP_WORD)"
   ]
  },
  {
   "cell_type": "code",
   "execution_count": 33,
   "metadata": {},
   "outputs": [],
   "source": [
    "# grabbing just for titles\n",
    "X_t = comb_data['title']"
   ]
  },
  {
   "cell_type": "code",
   "execution_count": 34,
   "metadata": {},
   "outputs": [],
   "source": [
    "# count vectorizing and put in dataframe\n",
    "X_t = cv.fit_transform(X_t)\n",
    "X_t_df = pd.DataFrame(X_t.toarray(), columns = cv.get_feature_names())"
   ]
  },
  {
   "cell_type": "code",
   "execution_count": 35,
   "metadata": {},
   "outputs": [],
   "source": [
    "picked_words = X_t_df.sum().sort_values(ascending=False)[:30]"
   ]
  },
  {
   "cell_type": "code",
   "execution_count": 36,
   "metadata": {},
   "outputs": [
    {
     "data": {
      "image/png": "[encoded data removed]",
      "text/plain": [
       "<Figure size 720x720 with 1 Axes>"
      ]
     },
     "metadata": {
      "needs_background": "light"
     },
     "output_type": "display_data"
    }
   ],
   "source": [
    "plt.figure(figsize=(10,10))\n",
    "plt.barh(y=picked_words.index[::-1],width=picked_words[::-1],color='skyblue')\n",
    "plt.suptitle('Most Frequently Used Words',size=20)\n",
    "plt.title('r/Baby & r/Pets',size=15)\n",
    "plt.xlabel('Frequency',size=13)\n",
    "plt.ylabel('Picked Words',size=13)\n",
    "plt.yticks(size=11.5);"
   ]
  },
  {
   "cell_type": "markdown",
   "metadata": {},
   "source": [
    "These are most frequently used words found in both subreddits. Most of these words are general words that do not give us much meaning like to, be, it. Some of them make sense given that our two subreddits are focused on Popularities. Possibly important words that could help determine which subreddit a post is from cat, dog, baby,need, kitten."
   ]
  },
  {
   "cell_type": "markdown",
   "metadata": {},
   "source": [
    "### Modeling"
   ]
  },
  {
   "cell_type": "markdown",
   "metadata": {},
   "source": [
    "#### Baseline Model\n",
    "\n",
    "Since this is a classification problem (and we'll be using accuracy as our metric), the baseline model is to predicted the most frequently occuring target class.The baseline accuracy is the percentage of the majority class, regardless of whether it is 1 or 0. It serves as the benchmark for our model to beat."
   ]
  },
  {
   "cell_type": "code",
   "execution_count": 37,
   "metadata": {},
   "outputs": [
    {
     "data": {
      "text/plain": [
       "0    0.63186\n",
       "1    0.36814\n",
       "Name: y, dtype: float64"
      ]
     },
     "execution_count": 37,
     "metadata": {},
     "output_type": "execute_result"
    }
   ],
   "source": [
    "y.value_counts(normalize=True)"
   ]
  },
  {
   "cell_type": "markdown",
   "metadata": {},
   "source": [
    "Here 1 as 'baby' and 0 as 'Pets' expect an accuracy of ~36% and ~63%. Any model performing well above this will be a significant improvement to the baseline model."
   ]
  },
  {
   "cell_type": "code",
   "execution_count": 38,
   "metadata": {},
   "outputs": [
    {
     "name": "stdout",
     "output_type": "stream",
     "text": [
      "Test Score: 0.6319385140905209\n",
      "Train Score: 0.6318337129840547\n",
      "Cross Val Score: 0.6318599549389303\n"
     ]
    }
   ],
   "source": [
    "# instantiate DummyClassifier\n",
    "dummy = DummyClassifier(strategy=\"most_frequent\")\n",
    "dummy.fit(X_train, y_train)\n",
    "\n",
    "# score on test\n",
    "print('Test Score:', dummy.score(X_test, y_test))\n",
    "\n",
    "# score on train\n",
    "print('Train Score:', dummy.score(X_train, y_train))\n",
    "\n",
    "# score on cross val\n",
    "print('Cross Val Score:', cross_val_score(dummy, X, y, cv =5).mean())"
   ]
  },
  {
   "cell_type": "markdown",
   "metadata": {},
   "source": [
    "Our baseline model is at ~63% accuracy.\n",
    "Therefore, we are looking to build a model that does better than 63%, otherwise our best bet is to blindly guess the same outcome every time."
   ]
  },
  {
   "cell_type": "markdown",
   "metadata": {},
   "source": [
    "#### Pipeline Models"
   ]
  },
  {
   "cell_type": "markdown",
   "metadata": {},
   "source": [
    " Instantiate GridSearchCV & Fit GridSearch to training data."
   ]
  },
  {
   "cell_type": "markdown",
   "metadata": {},
   "source": [
    "#### Logistic Regression Models"
   ]
  },
  {
   "cell_type": "code",
   "execution_count": 39,
   "metadata": {},
   "outputs": [
    {
     "name": "stdout",
     "output_type": "stream",
     "text": [
      "Train Score: 0.9877562642369021\n",
      "Test Score: 0.9376601195559351\n",
      "Cross Val Score: 0.9511034945133131\n",
      "Best parameters: {'cv__max_df': 0.9, 'cv__max_features': None, 'cv__min_df': 2, 'cv__ngram_range': (1, 2), 'lr__C': 2, 'lr__penalty': 'l2'}\n"
     ]
    }
   ],
   "source": [
    "lr = LogisticRegression()\n",
    "\n",
    "cv_lr_pipe = Pipeline([\n",
    "    ('cv', cv), #transformer\n",
    "    ('lr', lr)  # estimator\n",
    "])\n",
    "\n",
    "params_1 = {\n",
    "    'lr__penalty' : ['l2', 'l1'],\n",
    "    'lr__C' : [1, 2, .5],\n",
    "    'cv__max_features':[None,5_000,10_000],\n",
    "    'cv__min_df': [2, 3],\n",
    "    'cv__max_df': [.9, .95],\n",
    "    'cv__ngram_range':[(1,1),(1,2)] }\n",
    "\n",
    "gs_cv = GridSearchCV(cv_lr_pipe, \n",
    "                  params_1,\n",
    "                  cv = 5)\n",
    "gs_cv.fit(X_train, y_train)\n",
    "print('Train Score:', gs_cv.score(X_train, y_train))\n",
    "print('Test Score:', gs_cv.score(X_test, y_test))\n",
    "print('Cross Val Score:', cross_val_score(gs_cv.best_estimator_,X,y,cv=5).mean())\n",
    "print('Best parameters:', gs_cv.best_params_)\n"
   ]
  },
  {
   "cell_type": "markdown",
   "metadata": {},
   "source": [
    "CountVectorizer(estimator = lr) model has low bias and high variance.Thus it is overfitted model with Best parameters are max_df=0.9,max_features=None,min_df=2,ngram_range is 2-grams,C=2,and penalty=l2."
   ]
  },
  {
   "cell_type": "code",
   "execution_count": 40,
   "metadata": {
    "scrolled": true
   },
   "outputs": [
    {
     "name": "stdout",
     "output_type": "stream",
     "text": [
      "Train Score: 0.9834851936218679\n",
      "Test Score: 0.9444918872758327\n",
      "Cross Val Score: 0.9500364866960386\n",
      "Best parameters: {'lr__C': 2, 'lr__penalty': 'l2', 'tvect__max_df': 0.9, 'tvect__max_features': None, 'tvect__min_df': 2, 'tvect__ngram_range': (1, 2)}\n"
     ]
    }
   ],
   "source": [
    "tfidf_lr_pipe = Pipeline([\n",
    "    ('tvect', tvect), #transformer\n",
    "    ('lr', lr)        # estimator\n",
    "])\n",
    "\n",
    "params_2 = {\n",
    "    'lr__penalty' : ['l2', 'l1'],\n",
    "    'lr__C' : [1, 2, .5],\n",
    "    'tvect__max_features':[None,4_000,5_000,10_000],\n",
    "    'tvect__min_df': [2, 3],\n",
    "    'tvect__max_df': [.9, .95],\n",
    "    'tvect__ngram_range':[(1,1),(1,2)]\n",
    "}\n",
    "\n",
    "gs_tfidf = GridSearchCV(tfidf_lr_pipe, \n",
    "                  params_2,\n",
    "                  cv = 5)\n",
    "gs_tfidf.fit(X_train, y_train)\n",
    "\n",
    "print('Train Score:', gs_tfidf.score(X_train, y_train))\n",
    "print('Test Score:', gs_tfidf.score(X_test, y_test))\n",
    "print('Cross Val Score:', cross_val_score(gs_tfidf.best_estimator_,X,y,cv=5).mean())\n",
    "print('Best parameters:', gs_tfidf.best_params_)"
   ]
  },
  {
   "cell_type": "markdown",
   "metadata": {},
   "source": [
    "TfidfVectorizer(estimator = lr) model has low bias and high variance.Thus it is overfitted model with Best parameters are max_df=0.9,max_features=None,min_df=2,ngram_range is 2-grams,C=2,and penalty=l2."
   ]
  },
  {
   "cell_type": "markdown",
   "metadata": {},
   "source": [
    "#### Naive Bayes Models"
   ]
  },
  {
   "cell_type": "markdown",
   "metadata": {},
   "source": [
    "Multinomial NB"
   ]
  },
  {
   "cell_type": "code",
   "execution_count": 41,
   "metadata": {
    "scrolled": true
   },
   "outputs": [
    {
     "name": "stdout",
     "output_type": "stream",
     "text": [
      "Train Score: 0.9626993166287016\n",
      "Test Score: 0.9316823228010248\n",
      "Cross Val Score: 0.9340204234281076\n",
      "Best parameters: {'cv__max_df': 0.9, 'cv__max_features': None, 'cv__min_df': 2, 'cv__ngram_range': (1, 1), 'mnb__alpha': 0.5, 'mnb__class_prior': None}\n"
     ]
    }
   ],
   "source": [
    "mnb = MultinomialNB()\n",
    "\n",
    "m_nb_pipe = Pipeline([\n",
    "    ('cv', cv),    #transformer\n",
    "    ('mnb', mnb)   # estimator\n",
    "])\n",
    "\n",
    "params_1 = {\n",
    "    'mnb__alpha' : [1.0, .5],\n",
    "    'mnb__class_prior' : [None, 5],\n",
    "    'cv__max_features':[None,5_000,10_000],\n",
    "    'cv__min_df': [2, 3, 4],\n",
    "    'cv__max_df': [.9, .95, .85],\n",
    "    'cv__ngram_range':[(1,1),(1,2)]\n",
    "}\n",
    "    \n",
    "gs_m_nb = GridSearchCV(m_nb_pipe, \n",
    "                  params_1,\n",
    "                  cv = 5)\n",
    "\n",
    "gs_m_nb.fit(X_train, y_train)\n",
    "\n",
    "print('Train Score:', gs_m_nb.score(X_train, y_train))\n",
    "print('Test Score:', gs_m_nb.score(X_test, y_test))\n",
    "print('Cross Val Score:', cross_val_score(gs_m_nb.best_estimator_,X,y,cv=5).mean())\n",
    "print('Best parameters:', gs_m_nb.best_params_)"
   ]
  },
  {
   "cell_type": "markdown",
   "metadata": {},
   "source": [
    "Multinomial Naive Bayes model has low bias and high variance.Thus it is overfitted model with Best parameters are max_df=0.9,max_features=None,min_df=2,ngram_range is 1-grams,alpha=0.5,and class_prior=None."
   ]
  },
  {
   "cell_type": "markdown",
   "metadata": {},
   "source": [
    "Binomial NB"
   ]
  },
  {
   "cell_type": "code",
   "execution_count": 44,
   "metadata": {},
   "outputs": [
    {
     "name": "stdout",
     "output_type": "stream",
     "text": [
      "Train Score: 0.9604214123006833\n",
      "Test Score: 0.9274124679760888\n",
      "Cross Val Score: 0.9301779182515576\n",
      "Best parameters: {'bnb__alpha': 0.5, 'bnb__binarize': 0.0, 'tvect__max_df': 0.9, 'tvect__max_features': None, 'tvect__min_df': 2, 'tvect__ngram_range': (1, 1)}\n"
     ]
    }
   ],
   "source": [
    "bnb = BernoulliNB()\n",
    "\n",
    "b_nb_pipe = Pipeline([\n",
    "    ('tvect', tvect),    #transformer\n",
    "    ('bnb', bnb)   # estimator\n",
    "])\n",
    "\n",
    "params_2 = {\n",
    "    'bnb__alpha' : [1.0, .5],\n",
    "    'bnb__binarize' : [0.0, 0.5],\n",
    "    'tvect__max_features':[None,4_000,5_000,10_000],\n",
    "    'tvect__min_df': [2, 3],\n",
    "    'tvect__max_df': [.9, .95],\n",
    "    'tvect__ngram_range':[(1,1),(1,2)]\n",
    "}\n",
    "gs_b_nb = GridSearchCV(b_nb_pipe, \n",
    "                  params_2,\n",
    "                  cv = 5)\n",
    "\n",
    "gs_b_nb.fit(X_train, y_train)\n",
    "\n",
    "print('Train Score:', gs_b_nb.score(X_train, y_train))\n",
    "print('Test Score:', gs_b_nb.score(X_test, y_test))\n",
    "print('Cross Val Score:', cross_val_score(gs_b_nb.best_estimator_,X,y,cv=5).mean())\n",
    "print('Best parameters:', gs_b_nb.best_params_)"
   ]
  },
  {
   "cell_type": "markdown",
   "metadata": {},
   "source": [
    "Binomial Naive Bayes model has low bias and high variance.Thus it is overfitted model with Best parameters are max_df=0.9,max_features=None,min_df=2,ngram_range is 1-grams,alpha=0.5,and binarize=0.0."
   ]
  },
  {
   "cell_type": "markdown",
   "metadata": {},
   "source": [
    "#### Random Forest"
   ]
  },
  {
   "cell_type": "code",
   "execution_count": 51,
   "metadata": {},
   "outputs": [],
   "source": [
    "cvect= CountVectorizer(ngram_range=(1,2))\n",
    "X_train_vec = cvect.fit_transform(X_train)\n",
    "X_test_vec = cvect.transform(X_test)"
   ]
  },
  {
   "cell_type": "code",
   "execution_count": 52,
   "metadata": {},
   "outputs": [
    {
     "name": "stdout",
     "output_type": "stream",
     "text": [
      "Train Score:  0.9982915717539863\n",
      "Test Score:  0.9393680614859095\n",
      "Best Score:  0.9259632101737365\n",
      "Best parameters: {'max_depth': None, 'max_features': 'auto', 'n_estimators': 400}\n"
     ]
    }
   ],
   "source": [
    "# an instance of RandomForestClassifier \n",
    "rf = RandomForestClassifier(random_state=1050)\n",
    "\n",
    "rf_params = {\n",
    "    'n_estimators': [50, 100, 200, 400],\n",
    "     'max_depth' : [None, 2, 3, 4],\n",
    "     'max_features': [None, 'auto']\n",
    "}\n",
    "\n",
    "\n",
    "gs_rf = GridSearchCV(rf, param_grid=rf_params, cv=5)\n",
    "# Fiting\n",
    "gs_rf.fit(X_train_vec,y_train)\n",
    "\n",
    "\n",
    "#rounded down features in each split for classification problem.\n",
    "print(\"Train Score: \", gs_rf.score(X_train_vec,y_train))\n",
    "print(\"Test Score: \", gs_rf.score(X_test_vec,y_test))\n",
    "print(\"Best Score: \", gs_rf.best_score_)\n",
    "print('Best parameters:', gs_rf.best_params_)"
   ]
  },
  {
   "cell_type": "markdown",
   "metadata": {},
   "source": [
    "Random Forest model has low bias and very high variance.Thus it is overfitted model with Best parameters are max_depth=None,max_features=auto,n_estimators=400."
   ]
  },
  {
   "cell_type": "markdown",
   "metadata": {},
   "source": [
    "#### Extra Trees"
   ]
  },
  {
   "cell_type": "code",
   "execution_count": 53,
   "metadata": {},
   "outputs": [
    {
     "name": "stdout",
     "output_type": "stream",
     "text": [
      "Train Score:  0.9982915717539863\n",
      "Test Score:  0.9393680614859095\n",
      "Best Score:  0.9234011339274497\n",
      "Best parameters: {'max_depth': None, 'max_features': 'auto', 'n_estimators': 150}\n"
     ]
    }
   ],
   "source": [
    "# an instance of ExtraTreesClassifier\n",
    "et = ExtraTreesClassifier(random_state=42)\n",
    "\n",
    "et_params = {\n",
    "    'n_estimators': [50, 100, 150],\n",
    "     'max_depth' : [None, 2, 3, 4],\n",
    "     'max_features': [None, 'auto']\n",
    "}\n",
    "\n",
    "gs_et = GridSearchCV(rf, param_grid=et_params, cv=5)\n",
    "# Fiting\n",
    "gs_et.fit(X_train_vec,y_train)\n",
    "\n",
    "#rounded down features in each split for classification problem.\n",
    "print(\"Train Score: \", gs_et.score(X_train_vec,y_train))\n",
    "print(\"Test Score: \", gs_et.score(X_test_vec,y_test))\n",
    "print(\"Best Score: \", gs_et.best_score_)\n",
    "print('Best parameters:', gs_et.best_params_)"
   ]
  },
  {
   "cell_type": "markdown",
   "metadata": {},
   "source": [
    "Extra Trees model has low bias and very high variance.Thus it is overfitted model with Best parameters are max_depth=None,max_features=auto,n_estimators=150."
   ]
  },
  {
   "cell_type": "markdown",
   "metadata": {},
   "source": [
    "#### Bagging Classifier"
   ]
  },
  {
   "cell_type": "code",
   "execution_count": 56,
   "metadata": {
    "scrolled": true
   },
   "outputs": [
    {
     "name": "stdout",
     "output_type": "stream",
     "text": [
      "Train Score:  0.7061503416856492\n",
      "Test Score:  0.7147736976942783\n",
      "Best Score:  0.693916993916994\n",
      "Best parameters: {'base_estimator': None, 'max_features': 1.0, 'max_samples': 10, 'n_estimators': 10}\n"
     ]
    }
   ],
   "source": [
    "bagged = BaggingClassifier(random_state=42)\n",
    "\n",
    "bagged_params = {'base_estimator' : [None, 50, 100],\n",
    "               'n_estimators' : [10, 20],\n",
    "               'max_samples' : [1, 5, 10],\n",
    "                 'max_features' : [1.0, 1.5]\n",
    "}\n",
    "gs_bagged = GridSearchCV(bagged, param_grid=bagged_params, cv=5)\n",
    "# Fiting\n",
    "gs_bagged.fit(X_train_vec,y_train)\n",
    "\n",
    "#rounded down features in each split for classification problem.\n",
    "print(\"Train Score: \", gs_bagged.score(X_train_vec,y_train))\n",
    "print(\"Test Score: \", gs_bagged.score(X_test_vec,y_test))\n",
    "print(\"Best Score: \", gs_bagged.best_score_)\n",
    "print('Best parameters:', gs_bagged.best_params_)"
   ]
  },
  {
   "cell_type": "markdown",
   "metadata": {},
   "source": [
    "Random Forest model has lowish bias and variance.Technically It seems good model.but we will decide after seeing all the models score.Best parameters are base_estimator=None,max_feature=1.0,max_sample=10,n_estimator=10. "
   ]
  },
  {
   "cell_type": "markdown",
   "metadata": {},
   "source": [
    "#### DecisionTreeClassifier"
   ]
  },
  {
   "cell_type": "code",
   "execution_count": 57,
   "metadata": {},
   "outputs": [
    {
     "name": "stdout",
     "output_type": "stream",
     "text": [
      "Train Score:  0.9982915717539863\n",
      "Test Score:  0.9376601195559351\n",
      "Best Score:  0.9194173931016036\n",
      "Best parameters: {'ccp_alpha': 0.0, 'max_depth': None, 'max_features': None}\n"
     ]
    }
   ],
   "source": [
    "dtc = DecisionTreeClassifier(random_state=42)\n",
    "\n",
    "dtc_params = {'ccp_alpha' : [0.0, 0.5, 1],\n",
    "               'max_depth' : [None, 1, 5, 10],\n",
    "                 'max_features' : [None, 100, 200]\n",
    "}\n",
    "gs_dtc = GridSearchCV(dtc, param_grid=dtc_params, cv=5)\n",
    "# Fiting\n",
    "gs_dtc.fit(X_train_vec,y_train)\n",
    "\n",
    "#rounded down features in each split for classification problem.\n",
    "print(\"Train Score: \", gs_dtc.score(X_train_vec,y_train))\n",
    "print(\"Test Score: \", gs_dtc.score(X_test_vec,y_test))\n",
    "print(\"Best Score: \", gs_dtc.best_score_)\n",
    "print('Best parameters:', gs_dtc.best_params_)"
   ]
  },
  {
   "cell_type": "markdown",
   "metadata": {},
   "source": [
    "Decision Tree Classifier model has low bias and very high variance.Thus it is overfitted model.The best parameters are aplha=0.0,max_depth=None,max_features=None."
   ]
  },
  {
   "cell_type": "markdown",
   "metadata": {},
   "source": [
    "Using accuracy as metric, evaluate all models on the training and testing sets"
   ]
  },
  {
   "cell_type": "markdown",
   "metadata": {},
   "source": [
    "|                      Model with Train & Test Score   |             |            |\n",
    "|---------------------------------|-------------|------------|\n",
    "| Model                           | Train Score | Test Score |\n",
    "| Baseline                        | 0.6318      | 0.6319     |\n",
    "| CountVectorizer(estimator = lr) | 0.987       | 0.937      |\n",
    "|**TfidfVectorizer(estimr = lr)** | 0.983       | 0.944      |\n",
    "| MultinomialNB                   | 0.962       | 0.931      |\n",
    "| BernoulliNB                     | 0.960       | 0.927      |\n",
    "| Random Forest                   | 0.998       | 0.934      |\n",
    "| Extra Trees                     | 0.998       | 0.935      |\n",
    "| Baggin Classifier               | 0.720       | 0.725      |\n",
    "| DecisionTreeClassifier          | 0.998       | 0.9197     |"
   ]
  },
  {
   "cell_type": "markdown",
   "metadata": {},
   "source": [
    "From the above table we can see Bagging Classifier has the best train score 0.7201 and test score 0.7250. but the predictive power of the model is much less than the others which have much higher testing scores.So we pick TfidfVectorizer with Estimator logistic regression.here train score is .983 and test score is .944 that means model is with low bias and high variance. So our model is overfitted."
   ]
  },
  {
   "cell_type": "markdown",
   "metadata": {},
   "source": [
    "### Model Evaluation"
   ]
  },
  {
   "cell_type": "markdown",
   "metadata": {},
   "source": [
    "\n",
    "##### Interpreting the coeficients"
   ]
  },
  {
   "cell_type": "markdown",
   "metadata": {},
   "source": [
    "Lets find coefficients from interpretable model using logistic regression"
   ]
  },
  {
   "cell_type": "code",
   "execution_count": 54,
   "metadata": {
    "scrolled": false
   },
   "outputs": [
    {
     "name": "stdout",
     "output_type": "stream",
     "text": [
      "Train Score: 0.9834851936218679\n",
      "Test Score: 0.9444918872758327\n"
     ]
    },
    {
     "data": {
      "text/plain": [
       "baby          6.582897\n",
       "giveaway      3.792313\n",
       "kids          2.628661\n",
       "babies        2.253493\n",
       "gifts         2.155783\n",
       "best          2.136540\n",
       "gift          2.011872\n",
       "recipe        1.853338\n",
       "review        1.775358\n",
       "sleep         1.688273\n",
       "formula       1.539733\n",
       "nyc           1.530229\n",
       "diapers       1.526030\n",
       "family        1.492537\n",
       "best gifts    1.482229\n",
       "teething      1.458900\n",
       "bottle        1.437863\n",
       "pregnant      1.414145\n",
       "moms          1.403396\n",
       "newborn       1.402561\n",
       "Name: coefficient, dtype: float64"
      ]
     },
     "execution_count": 54,
     "metadata": {},
     "output_type": "execute_result"
    }
   ],
   "source": [
    "#help by saiful Hasan\n",
    "#coefficient calculation\n",
    "lr = LogisticRegression()\n",
    "tvect = TfidfVectorizer(max_df =0.9, max_features=None, \n",
    "                       min_df=2, ngram_range =(1, 2)\n",
    "                         )\n",
    "\n",
    "tfidf_lr_pipe = Pipeline([\n",
    "    ('tvect', tvect), #transformer\n",
    "    ('lr', lr)        # estimator\n",
    "])\n",
    "tfidf_lr_pipe.fit(X_train, y_train)\n",
    "print('Train Score:', gs_tfidf.score(X_train, y_train))\n",
    "print('Test Score:', gs_tfidf.score(X_test, y_test))\n",
    "\n",
    "lr.coef_;  #coeffcient \n",
    "Coefficient_list = pd.DataFrame(data=lr.coef_.T, index=tvect.get_feature_names());  #create daatframe\n",
    "Coefficient_list.columns = ['coefficient']\n",
    "Coefficient_list['coefficient'].sort_values(ascending = False)[:20]  #show top 20 features for interpretation"
   ]
  },
  {
   "cell_type": "code",
   "execution_count": 58,
   "metadata": {},
   "outputs": [
    {
     "data": {
      "text/plain": [
       "cat       -9.411221\n",
       "dog       -6.990628\n",
       "pet       -5.213621\n",
       "kitten    -4.026287\n",
       "cats      -3.985058\n",
       "pets      -3.775175\n",
       "puppy     -3.147989\n",
       "dogs      -3.043727\n",
       "kittens   -2.006485\n",
       "fleas     -1.790914\n",
       "hamster   -1.704159\n",
       "kitty     -1.678763\n",
       "vet       -1.661599\n",
       "animal    -1.582264\n",
       "help      -1.501189\n",
       "bird      -1.474600\n",
       "pup       -1.472736\n",
       "getting   -1.406026\n",
       "bunny     -1.270637\n",
       "animals   -1.258153\n",
       "Name: coefficient, dtype: float64"
      ]
     },
     "execution_count": 58,
     "metadata": {},
     "output_type": "execute_result"
    }
   ],
   "source": [
    "Coefficient_list['coefficient'].sort_values()[:20] #random 20"
   ]
  },
  {
   "cell_type": "code",
   "execution_count": 59,
   "metadata": {},
   "outputs": [
    {
     "data": {
      "text/plain": [
       "722.6297582103326"
      ]
     },
     "execution_count": 59,
     "metadata": {},
     "output_type": "execute_result"
    }
   ],
   "source": [
    "#baby\n",
    "np.exp(6.582897) "
   ]
  },
  {
   "cell_type": "code",
   "execution_count": 60,
   "metadata": {},
   "outputs": [
    {
     "data": {
      "text/plain": [
       "13.85520535596834"
      ]
     },
     "execution_count": 60,
     "metadata": {},
     "output_type": "execute_result"
    }
   ],
   "source": [
    "#kids\n",
    "np.exp(2.628661)"
   ]
  },
  {
   "cell_type": "code",
   "execution_count": 61,
   "metadata": {},
   "outputs": [
    {
     "data": {
      "text/plain": [
       "0.005441932729791709"
      ]
     },
     "execution_count": 61,
     "metadata": {},
     "output_type": "execute_result"
    }
   ],
   "source": [
    "#pet\n",
    "np.exp(-5.213621)"
   ]
  },
  {
   "cell_type": "code",
   "execution_count": 62,
   "metadata": {},
   "outputs": [
    {
     "data": {
      "text/plain": [
       "7.437129838353084"
      ]
     },
     "execution_count": 62,
     "metadata": {},
     "output_type": "execute_result"
    }
   ],
   "source": [
    "#kittens\n",
    "np.exp(2.006485)"
   ]
  },
  {
   "cell_type": "code",
   "execution_count": 63,
   "metadata": {},
   "outputs": [
    {
     "data": {
      "text/plain": [
       "-99.90795317039675"
      ]
     },
     "execution_count": 63,
     "metadata": {},
     "output_type": "execute_result"
    }
   ],
   "source": [
    "#dog       \n",
    "(np.exp(-6.990628) - 1) *100"
   ]
  },
  {
   "cell_type": "markdown",
   "metadata": {},
   "source": [
    "for every 1 unit increase for 'baby' in the title, that submission was 722.6 times as likely to be benign. Same like for kids, pets and kitten submission was 13.85, .005 and 7.43 times respectively, and else held equally. Also for dog, the submission was 99.9 %  likely to belong to the subreddits, else are held."
   ]
  },
  {
   "cell_type": "markdown",
   "metadata": {},
   "source": [
    "Although it SEEMS like this would be the end of the evaluating our model, part of the classification workflow includes digging a little deeper into the models performance regarding model errors.\n",
    "Much like regression models looks to its residuals for insights, classification also looks at its errors, known as misclassifications, which is typically portrayed as a \"confusion matrix\"."
   ]
  },
  {
   "cell_type": "markdown",
   "metadata": {},
   "source": [
    "Using our selected model TfidfVectorizer using Logistic Regression as estimator let us create a function for confusion matrix"
   ]
  },
  {
   "cell_type": "code",
   "execution_count": 64,
   "metadata": {},
   "outputs": [],
   "source": [
    "def pretty_confusion_matrix(y_true, y_pred):\n",
    "    \n",
    "    # handling data\n",
    "    cm = confusion_matrix(y_true, y_pred)\n",
    "    labels = y_true.unique()\n",
    "    labels.sort()\n",
    "    \n",
    "    # plotting\n",
    "    sns.set(font_scale=1.2)\n",
    "    plt.figure(figsize=(10,4))\n",
    "    \n",
    "    sns.heatmap(cm, annot=True, fmt='g', cmap=\"PiYG\",xticklabels=labels, yticklabels=labels, annot_kws={\"size\": 20})\n",
    "    plt.title(\"TfidfVectorizer Model Matrix (1 = r/baby)\")\n",
    "    plt.xlabel('Predicted Subreddit')\n",
    "    plt.ylabel('True Subreddit')"
   ]
  },
  {
   "cell_type": "code",
   "execution_count": 65,
   "metadata": {},
   "outputs": [
    {
     "data": {
      "image/png": "[encoded data removed]",
      "text/plain": [
       "<Figure size 720x288 with 2 Axes>"
      ]
     },
     "metadata": {},
     "output_type": "display_data"
    }
   ],
   "source": [
    "pretty_confusion_matrix(y_test, gs_tfidf.predict(X_test))"
   ]
  },
  {
   "cell_type": "code",
   "execution_count": 66,
   "metadata": {
    "scrolled": true
   },
   "outputs": [],
   "source": [
    "#pretty_confusion_matrix(y_test, bagged.predict(X_test_vec))"
   ]
  },
  {
   "cell_type": "markdown",
   "metadata": {},
   "source": [
    " Calculate model accuracy from above matrix"
   ]
  },
  {
   "cell_type": "code",
   "execution_count": 67,
   "metadata": {},
   "outputs": [
    {
     "data": {
      "text/plain": [
       "94.44918872758326"
      ]
     },
     "execution_count": 67,
     "metadata": {},
     "output_type": "execute_result"
    }
   ],
   "source": [
    "accuracy =(386+720)/(386+720+20+45) #prediction are currect\n",
    "accuracy * 100"
   ]
  },
  {
   "cell_type": "code",
   "execution_count": 68,
   "metadata": {},
   "outputs": [
    {
     "data": {
      "text/plain": [
       "5.550811272416734"
      ]
     },
     "execution_count": 68,
     "metadata": {},
     "output_type": "execute_result"
    }
   ],
   "source": [
    "misclasification_rate = 1 - accuracy #prediction are incorrect\n",
    "misclasification_rate * 100"
   ]
  },
  {
   "cell_type": "code",
   "execution_count": 69,
   "metadata": {
    "scrolled": true
   },
   "outputs": [
    {
     "data": {
      "text/plain": [
       "97.2972972972973"
      ]
     },
     "execution_count": 69,
     "metadata": {},
     "output_type": "execute_result"
    }
   ],
   "source": [
    "Specificity = 720/ (720+ 20) #True negative rate\n",
    "Specificity * 100"
   ]
  },
  {
   "cell_type": "code",
   "execution_count": 70,
   "metadata": {},
   "outputs": [
    {
     "data": {
      "text/plain": [
       "89.55916473317865"
      ]
     },
     "execution_count": 70,
     "metadata": {},
     "output_type": "execute_result"
    }
   ],
   "source": [
    "Sensitivity = 386/ (386+ 45)  # True positive rate\n",
    "Sensitivity * 100"
   ]
  },
  {
   "cell_type": "markdown",
   "metadata": {},
   "source": [
    "Our model seems to have few false negatives and few false positives, so we have verified our model is actually a strong model.\n",
    "Thus the proportion of prediction for the subreddits are ~94% Accurate.That is good achievement for us."
   ]
  },
  {
   "cell_type": "markdown",
   "metadata": {},
   "source": [
    "### Conclusions and Recommendations"
   ]
  },
  {
   "cell_type": "markdown",
   "metadata": {},
   "source": [
    "Thus this model will be able to predict a posts for both subreddit with very good accuracy of ~94% by the TfidfVectorizer using Logistic Regression as estimator. In the real world we can find Young Americans may be less likely to be homeowners or parents of human children, but they are leading in their rate of pet ownership. Popularity of baby priority over pets. If we have more data we can be more predictable than this.\n",
    "\n",
    "This project can be recommended for:\n",
    "- Use for sentiment analysis of pets vs baby priority\n",
    "- also how to pull data requests from web"
   ]
  },
  {
   "cell_type": "markdown",
   "metadata": {},
   "source": [
    "### References"
   ]
  },
  {
   "cell_type": "markdown",
   "metadata": {},
   "source": [
    "- [Pushshift API](https://github.com/pushshift/api)\n",
    "\n",
    "- https://api.pushshift.io/reddit/search/submission?subreddit=baby\n",
    "\n",
    "- https://api.pushshift.io/reddit/search/submission?subreddit=Pets\n",
    "\n",
    "- https://www.epochconverter.com\n",
    "\n",
    "- https://pushshift.io/api-parameters/"
   ]
  }
 ],
 "metadata": {
  "kernelspec": {
   "display_name": "Python 3",
   "language": "python",
   "name": "python3"
  },
  "language_info": {
   "codemirror_mode": {
    "name": "ipython",
    "version": 3
   },
   "file_extension": ".py",
   "mimetype": "text/x-python",
   "name": "python",
   "nbconvert_exporter": "python",
   "pygments_lexer": "ipython3",
   "version": "3.7.6"
  }
 },
 "nbformat": 4,
 "nbformat_minor": 4
}
