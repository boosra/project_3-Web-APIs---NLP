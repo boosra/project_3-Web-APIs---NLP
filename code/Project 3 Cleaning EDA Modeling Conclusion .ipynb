{
 "cells": [
  {
   "cell_type": "markdown",
   "metadata": {},
   "source": [
    "# Project 3 Data Cleaning & EDA"
   ]
  },
  {
   "cell_type": "markdown",
   "metadata": {},
   "source": [
    "## Contents:"
   ]
  },
  {
   "cell_type": "markdown",
   "metadata": {},
   "source": [
    "- **[Import Libraries](#Import-Libraries)**.  \n",
    "    \n",
    "- **[Data Cleaning & EDA](#Data-Cleaning-Exploratory-Data-Analysis)**.  \n",
    "\n",
    "- **[Model Preparation](#Model-Preparation)**. \n",
    "\n",
    " - **[Modeling](#Modeling)**.  \n",
    "   - **[Baseline Model](#Baseline-Model)**. \n",
    "   - **[Pipeline Models](#Pipeline-Models)**. \n",
    "   - **[Logistic Regression Models](#Logistic-Regression-Models)**. \n",
    "   - **[Naive Bayes Models](#Naive-Bayes-Models)**.  \n",
    "   - **[Random Forest](#Random-Forest)**.  \n",
    "   - **[Extra Trees](#Extra-Trees)**.  \n",
    "   - **[Bagging Classifier](#Baggin-Classifier)**.  \n",
    "   - **[DecisionTreeClassifier](#DecisionTreeClassifier)**.  \n",
    "   \n",
    "   \n",
    "- **[Model Evaluation](#Model-Evaluation)**.  \n",
    "\n",
    "- **[Conclusions and Recommendations](#Conclusions-and-Recommendations)**.  \n",
    "\n",
    "- **[References](#References)**."
   ]
  },
  {
   "cell_type": "markdown",
   "metadata": {},
   "source": [
    "### Import Libraries"
   ]
  },
  {
   "cell_type": "code",
   "execution_count": 195,
   "metadata": {},
   "outputs": [],
   "source": [
    "import warnings\n",
    "warnings.filterwarnings(\"ignore\")\n",
    "\n",
    "import pandas as pd\n",
    "import numpy as np\n",
    "\n",
    "from nltk.tokenize import RegexpTokenizer\n",
    "from nltk.stem import WordNetLemmatizer\n",
    "from nltk.corpus import stopwords\n",
    "import re\n",
    "import seaborn as sns\n",
    "\n",
    "from sklearn.model_selection import train_test_split, cross_val_score\n",
    "from sklearn.preprocessing import StandardScaler, MinMaxScaler\n",
    "from sklearn.linear_model import LogisticRegression\n",
    "from sklearn.feature_extraction.text import CountVectorizer, TfidfVectorizer\n",
    "from sklearn.ensemble import RandomForestClassifier, ExtraTreesClassifier, BaggingClassifier\n",
    "from sklearn.dummy import DummyClassifier\n",
    "from sklearn.metrics import confusion_matrix, accuracy_score\n",
    "from sklearn.tree import DecisionTreeClassifier, plot_tree, export_text\n",
    "\n",
    "\n",
    "from sklearn.naive_bayes import MultinomialNB, BernoulliNB\n",
    "from sklearn.neighbors import KNeighborsClassifier\n",
    "from sklearn.model_selection import GridSearchCV\n",
    "import time\n",
    "from sklearn.pipeline import Pipeline\n",
    "\n",
    "import matplotlib.pyplot as plt\n",
    "%matplotlib inline"
   ]
  },
  {
   "cell_type": "markdown",
   "metadata": {},
   "source": [
    "#### Reading csv files"
   ]
  },
  {
   "cell_type": "code",
   "execution_count": 114,
   "metadata": {},
   "outputs": [],
   "source": [
    "baby_data = pd.read_csv('../data/result1.csv')"
   ]
  },
  {
   "cell_type": "code",
   "execution_count": 115,
   "metadata": {},
   "outputs": [
    {
     "data": {
      "text/plain": [
       "(1724, 32)"
      ]
     },
     "execution_count": 115,
     "metadata": {},
     "output_type": "execute_result"
    }
   ],
   "source": [
    "baby_data.shape"
   ]
  },
  {
   "cell_type": "code",
   "execution_count": 116,
   "metadata": {},
   "outputs": [],
   "source": [
    "Pets_data = pd.read_csv('../data/result2.csv')"
   ]
  },
  {
   "cell_type": "code",
   "execution_count": 117,
   "metadata": {},
   "outputs": [
    {
     "data": {
      "text/plain": [
       "(2959, 32)"
      ]
     },
     "execution_count": 117,
     "metadata": {},
     "output_type": "execute_result"
    }
   ],
   "source": [
    "Pets_data.shape"
   ]
  },
  {
   "cell_type": "markdown",
   "metadata": {},
   "source": [
    "Frequency of classes are similar in both data. There is no need to stratify or correct for imbalanced data"
   ]
  },
  {
   "cell_type": "code",
   "execution_count": 118,
   "metadata": {},
   "outputs": [],
   "source": [
    "comb_data = pd.read_csv('../data/combined_db.csv') "
   ]
  },
  {
   "cell_type": "markdown",
   "metadata": {},
   "source": [
    "### Data cleaning & EDA"
   ]
  },
  {
   "cell_type": "code",
   "execution_count": 119,
   "metadata": {},
   "outputs": [
    {
     "data": {
      "text/html": [
       "<div>\n",
       "<style scoped>\n",
       "    .dataframe tbody tr th:only-of-type {\n",
       "        vertical-align: middle;\n",
       "    }\n",
       "\n",
       "    .dataframe tbody tr th {\n",
       "        vertical-align: top;\n",
       "    }\n",
       "\n",
       "    .dataframe thead th {\n",
       "        text-align: right;\n",
       "    }\n",
       "</style>\n",
       "<table border=\"1\" class=\"dataframe\">\n",
       "  <thead>\n",
       "    <tr style=\"text-align: right;\">\n",
       "      <th></th>\n",
       "      <th>subreddit</th>\n",
       "      <th>subreddit_type</th>\n",
       "      <th>author</th>\n",
       "      <th>created_utc</th>\n",
       "      <th>link_flair_text_color</th>\n",
       "      <th>link_flair_type</th>\n",
       "      <th>retrieved_on</th>\n",
       "      <th>score</th>\n",
       "      <th>subreddit_subscribers</th>\n",
       "      <th>subreddit_type.1</th>\n",
       "      <th>...</th>\n",
       "      <th>is_robot_indexable</th>\n",
       "      <th>is_self</th>\n",
       "      <th>is_video</th>\n",
       "      <th>locked</th>\n",
       "      <th>media_only</th>\n",
       "      <th>over_18</th>\n",
       "      <th>pinned</th>\n",
       "      <th>spoiler</th>\n",
       "      <th>stickied</th>\n",
       "      <th>timestamp</th>\n",
       "    </tr>\n",
       "  </thead>\n",
       "  <tbody>\n",
       "    <tr>\n",
       "      <th>0</th>\n",
       "      <td>baby</td>\n",
       "      <td>public</td>\n",
       "      <td>purehoopla</td>\n",
       "      <td>1584915670</td>\n",
       "      <td>dark</td>\n",
       "      <td>text</td>\n",
       "      <td>1584915676</td>\n",
       "      <td>1</td>\n",
       "      <td>6852</td>\n",
       "      <td>public</td>\n",
       "      <td>...</td>\n",
       "      <td>False</td>\n",
       "      <td>True</td>\n",
       "      <td>False</td>\n",
       "      <td>False</td>\n",
       "      <td>False</td>\n",
       "      <td>False</td>\n",
       "      <td>False</td>\n",
       "      <td>False</td>\n",
       "      <td>False</td>\n",
       "      <td>2020-03-22</td>\n",
       "    </tr>\n",
       "    <tr>\n",
       "      <th>1</th>\n",
       "      <td>baby</td>\n",
       "      <td>public</td>\n",
       "      <td>Renegade626</td>\n",
       "      <td>1584933321</td>\n",
       "      <td>dark</td>\n",
       "      <td>text</td>\n",
       "      <td>1584933322</td>\n",
       "      <td>1</td>\n",
       "      <td>6855</td>\n",
       "      <td>public</td>\n",
       "      <td>...</td>\n",
       "      <td>True</td>\n",
       "      <td>True</td>\n",
       "      <td>False</td>\n",
       "      <td>False</td>\n",
       "      <td>False</td>\n",
       "      <td>False</td>\n",
       "      <td>False</td>\n",
       "      <td>False</td>\n",
       "      <td>False</td>\n",
       "      <td>2020-03-22</td>\n",
       "    </tr>\n",
       "    <tr>\n",
       "      <th>2</th>\n",
       "      <td>baby</td>\n",
       "      <td>public</td>\n",
       "      <td>mytrendybabystore</td>\n",
       "      <td>1584983015</td>\n",
       "      <td>dark</td>\n",
       "      <td>text</td>\n",
       "      <td>1584983020</td>\n",
       "      <td>1</td>\n",
       "      <td>6856</td>\n",
       "      <td>public</td>\n",
       "      <td>...</td>\n",
       "      <td>False</td>\n",
       "      <td>True</td>\n",
       "      <td>False</td>\n",
       "      <td>False</td>\n",
       "      <td>False</td>\n",
       "      <td>False</td>\n",
       "      <td>False</td>\n",
       "      <td>False</td>\n",
       "      <td>False</td>\n",
       "      <td>2020-03-23</td>\n",
       "    </tr>\n",
       "    <tr>\n",
       "      <th>3</th>\n",
       "      <td>baby</td>\n",
       "      <td>public</td>\n",
       "      <td>mytrendybabystore</td>\n",
       "      <td>1584988382</td>\n",
       "      <td>dark</td>\n",
       "      <td>text</td>\n",
       "      <td>1584988392</td>\n",
       "      <td>1</td>\n",
       "      <td>6857</td>\n",
       "      <td>public</td>\n",
       "      <td>...</td>\n",
       "      <td>False</td>\n",
       "      <td>True</td>\n",
       "      <td>False</td>\n",
       "      <td>False</td>\n",
       "      <td>False</td>\n",
       "      <td>False</td>\n",
       "      <td>False</td>\n",
       "      <td>False</td>\n",
       "      <td>False</td>\n",
       "      <td>2020-03-23</td>\n",
       "    </tr>\n",
       "    <tr>\n",
       "      <th>4</th>\n",
       "      <td>baby</td>\n",
       "      <td>public</td>\n",
       "      <td>kellimoxie</td>\n",
       "      <td>1585016982</td>\n",
       "      <td>dark</td>\n",
       "      <td>text</td>\n",
       "      <td>1585016988</td>\n",
       "      <td>1</td>\n",
       "      <td>6860</td>\n",
       "      <td>public</td>\n",
       "      <td>...</td>\n",
       "      <td>True</td>\n",
       "      <td>True</td>\n",
       "      <td>False</td>\n",
       "      <td>False</td>\n",
       "      <td>False</td>\n",
       "      <td>False</td>\n",
       "      <td>False</td>\n",
       "      <td>False</td>\n",
       "      <td>False</td>\n",
       "      <td>2020-03-23</td>\n",
       "    </tr>\n",
       "  </tbody>\n",
       "</table>\n",
       "<p>5 rows × 32 columns</p>\n",
       "</div>"
      ],
      "text/plain": [
       "  subreddit subreddit_type             author  created_utc  \\\n",
       "0      baby         public         purehoopla   1584915670   \n",
       "1      baby         public        Renegade626   1584933321   \n",
       "2      baby         public  mytrendybabystore   1584983015   \n",
       "3      baby         public  mytrendybabystore   1584988382   \n",
       "4      baby         public         kellimoxie   1585016982   \n",
       "\n",
       "  link_flair_text_color link_flair_type  retrieved_on  score  \\\n",
       "0                  dark            text    1584915676      1   \n",
       "1                  dark            text    1584933322      1   \n",
       "2                  dark            text    1584983020      1   \n",
       "3                  dark            text    1584988392      1   \n",
       "4                  dark            text    1585016988      1   \n",
       "\n",
       "   subreddit_subscribers subreddit_type.1  ... is_robot_indexable is_self  \\\n",
       "0                   6852           public  ...              False    True   \n",
       "1                   6855           public  ...               True    True   \n",
       "2                   6856           public  ...              False    True   \n",
       "3                   6857           public  ...              False    True   \n",
       "4                   6860           public  ...               True    True   \n",
       "\n",
       "  is_video locked  media_only  over_18  pinned  spoiler  stickied   timestamp  \n",
       "0    False  False       False    False   False    False     False  2020-03-22  \n",
       "1    False  False       False    False   False    False     False  2020-03-22  \n",
       "2    False  False       False    False   False    False     False  2020-03-23  \n",
       "3    False  False       False    False   False    False     False  2020-03-23  \n",
       "4    False  False       False    False   False    False     False  2020-03-23  \n",
       "\n",
       "[5 rows x 32 columns]"
      ]
     },
     "execution_count": 119,
     "metadata": {},
     "output_type": "execute_result"
    }
   ],
   "source": [
    "comb_data.head()"
   ]
  },
  {
   "cell_type": "markdown",
   "metadata": {},
   "source": [
    "checking null value"
   ]
  },
  {
   "cell_type": "code",
   "execution_count": 121,
   "metadata": {},
   "outputs": [
    {
     "data": {
      "text/plain": [
       "0"
      ]
     },
     "execution_count": 121,
     "metadata": {},
     "output_type": "execute_result"
    }
   ],
   "source": [
    "comb_data.isnull().sum().sum()"
   ]
  },
  {
   "cell_type": "markdown",
   "metadata": {},
   "source": [
    "There is no null values."
   ]
  },
  {
   "cell_type": "code",
   "execution_count": 123,
   "metadata": {},
   "outputs": [
    {
     "data": {
      "text/plain": [
       "subreddit                 object\n",
       "subreddit_type            object\n",
       "author                    object\n",
       "created_utc                int64\n",
       "link_flair_text_color     object\n",
       "link_flair_type           object\n",
       "retrieved_on               int64\n",
       "score                      int64\n",
       "subreddit_subscribers      int64\n",
       "subreddit_type.1          object\n",
       "title                     object\n",
       "domain                    object\n",
       "full_link                 object\n",
       "url                       object\n",
       "is_reddit_media_domain      bool\n",
       "no_follow                   bool\n",
       "send_replies                bool\n",
       "can_mod_post                bool\n",
       "contest_mode                bool\n",
       "is_crosspostable            bool\n",
       "is_meta                     bool\n",
       "is_original_content         bool\n",
       "is_robot_indexable          bool\n",
       "is_self                     bool\n",
       "is_video                    bool\n",
       "locked                      bool\n",
       "media_only                  bool\n",
       "over_18                     bool\n",
       "pinned                      bool\n",
       "spoiler                     bool\n",
       "stickied                    bool\n",
       "timestamp                 object\n",
       "dtype: object"
      ]
     },
     "execution_count": 123,
     "metadata": {},
     "output_type": "execute_result"
    }
   ],
   "source": [
    "comb_data.dtypes"
   ]
  },
  {
   "cell_type": "code",
   "execution_count": 124,
   "metadata": {
    "scrolled": true
   },
   "outputs": [
    {
     "data": {
      "text/plain": [
       "Pets    2959\n",
       "baby    1724\n",
       "Name: subreddit, dtype: int64"
      ]
     },
     "execution_count": 124,
     "metadata": {},
     "output_type": "execute_result"
    }
   ],
   "source": [
    "comb_data['subreddit'].value_counts()"
   ]
  },
  {
   "cell_type": "markdown",
   "metadata": {},
   "source": [
    "Create Binary y column based on subreddit name"
   ]
  },
  {
   "cell_type": "code",
   "execution_count": 125,
   "metadata": {
    "scrolled": true
   },
   "outputs": [
    {
     "data": {
      "text/html": [
       "<div>\n",
       "<style scoped>\n",
       "    .dataframe tbody tr th:only-of-type {\n",
       "        vertical-align: middle;\n",
       "    }\n",
       "\n",
       "    .dataframe tbody tr th {\n",
       "        vertical-align: top;\n",
       "    }\n",
       "\n",
       "    .dataframe thead th {\n",
       "        text-align: right;\n",
       "    }\n",
       "</style>\n",
       "<table border=\"1\" class=\"dataframe\">\n",
       "  <thead>\n",
       "    <tr style=\"text-align: right;\">\n",
       "      <th></th>\n",
       "      <th>subreddit</th>\n",
       "      <th>subreddit_type</th>\n",
       "      <th>author</th>\n",
       "      <th>created_utc</th>\n",
       "      <th>link_flair_text_color</th>\n",
       "      <th>link_flair_type</th>\n",
       "      <th>retrieved_on</th>\n",
       "      <th>score</th>\n",
       "      <th>subreddit_subscribers</th>\n",
       "      <th>subreddit_type.1</th>\n",
       "      <th>...</th>\n",
       "      <th>is_self</th>\n",
       "      <th>is_video</th>\n",
       "      <th>locked</th>\n",
       "      <th>media_only</th>\n",
       "      <th>over_18</th>\n",
       "      <th>pinned</th>\n",
       "      <th>spoiler</th>\n",
       "      <th>stickied</th>\n",
       "      <th>timestamp</th>\n",
       "      <th>y</th>\n",
       "    </tr>\n",
       "  </thead>\n",
       "  <tbody>\n",
       "    <tr>\n",
       "      <th>0</th>\n",
       "      <td>baby</td>\n",
       "      <td>public</td>\n",
       "      <td>purehoopla</td>\n",
       "      <td>1584915670</td>\n",
       "      <td>dark</td>\n",
       "      <td>text</td>\n",
       "      <td>1584915676</td>\n",
       "      <td>1</td>\n",
       "      <td>6852</td>\n",
       "      <td>public</td>\n",
       "      <td>...</td>\n",
       "      <td>True</td>\n",
       "      <td>False</td>\n",
       "      <td>False</td>\n",
       "      <td>False</td>\n",
       "      <td>False</td>\n",
       "      <td>False</td>\n",
       "      <td>False</td>\n",
       "      <td>False</td>\n",
       "      <td>2020-03-22</td>\n",
       "      <td>1</td>\n",
       "    </tr>\n",
       "    <tr>\n",
       "      <th>1</th>\n",
       "      <td>baby</td>\n",
       "      <td>public</td>\n",
       "      <td>Renegade626</td>\n",
       "      <td>1584933321</td>\n",
       "      <td>dark</td>\n",
       "      <td>text</td>\n",
       "      <td>1584933322</td>\n",
       "      <td>1</td>\n",
       "      <td>6855</td>\n",
       "      <td>public</td>\n",
       "      <td>...</td>\n",
       "      <td>True</td>\n",
       "      <td>False</td>\n",
       "      <td>False</td>\n",
       "      <td>False</td>\n",
       "      <td>False</td>\n",
       "      <td>False</td>\n",
       "      <td>False</td>\n",
       "      <td>False</td>\n",
       "      <td>2020-03-22</td>\n",
       "      <td>1</td>\n",
       "    </tr>\n",
       "  </tbody>\n",
       "</table>\n",
       "<p>2 rows × 33 columns</p>\n",
       "</div>"
      ],
      "text/plain": [
       "  subreddit subreddit_type       author  created_utc link_flair_text_color  \\\n",
       "0      baby         public   purehoopla   1584915670                  dark   \n",
       "1      baby         public  Renegade626   1584933321                  dark   \n",
       "\n",
       "  link_flair_type  retrieved_on  score  subreddit_subscribers  \\\n",
       "0            text    1584915676      1                   6852   \n",
       "1            text    1584933322      1                   6855   \n",
       "\n",
       "  subreddit_type.1  ... is_self is_video locked media_only  over_18  pinned  \\\n",
       "0           public  ...    True    False  False      False    False   False   \n",
       "1           public  ...    True    False  False      False    False   False   \n",
       "\n",
       "   spoiler  stickied   timestamp  y  \n",
       "0    False     False  2020-03-22  1  \n",
       "1    False     False  2020-03-22  1  \n",
       "\n",
       "[2 rows x 33 columns]"
      ]
     },
     "execution_count": 125,
     "metadata": {},
     "output_type": "execute_result"
    }
   ],
   "source": [
    "comb_data['y'] = comb_data['subreddit'].map(lambda x: 1 if x == 'baby' else 0)\n",
    "\n",
    "comb_data.head(2)"
   ]
  },
  {
   "cell_type": "code",
   "execution_count": 126,
   "metadata": {
    "scrolled": true
   },
   "outputs": [
    {
     "data": {
      "text/plain": [
       "0    0.63186\n",
       "1    0.36814\n",
       "Name: y, dtype: float64"
      ]
     },
     "execution_count": 126,
     "metadata": {},
     "output_type": "execute_result"
    }
   ],
   "source": [
    "comb_data['y'].value_counts(normalize=True)"
   ]
  },
  {
   "cell_type": "code",
   "execution_count": 306,
   "metadata": {},
   "outputs": [
    {
     "data": {
      "image/png": "[encoded data removed]",
      "text/plain": [
       "<Figure size 432x288 with 1 Axes>"
      ]
     },
     "metadata": {},
     "output_type": "display_data"
    }
   ],
   "source": [
    "sns.barplot(x = comb_data['subreddit'], y = comb_data['y']);"
   ]
  },
  {
   "cell_type": "code",
   "execution_count": 127,
   "metadata": {
    "scrolled": true
   },
   "outputs": [
    {
     "data": {
      "text/plain": [
       "0          What It’s Like to Be (Very) Pregnant Right Now\n",
       "1                       Tummy sleeper wakes several times\n",
       "2        Online Resources For Kids During Home Quarantine\n",
       "3               Chicken Pot Pie The Whole Family Can Make\n",
       "4       I could use advice regarding a cancelled baby ...\n",
       "                              ...                        \n",
       "4678                            Cat begs for food nonstop\n",
       "4679     Found a price sticker in Royal Canin Small Adult\n",
       "4680    6 month old kitty sometimes plays with mouth o...\n",
       "4681                     Remember to keep pets safe today\n",
       "4682                       Getting pee smell out of couch\n",
       "Name: title, Length: 4683, dtype: object"
      ]
     },
     "execution_count": 127,
     "metadata": {},
     "output_type": "execute_result"
    }
   ],
   "source": [
    "comb_data['title']"
   ]
  },
  {
   "cell_type": "markdown",
   "metadata": {},
   "source": [
    "Let create a function to tokenize,Lemmatizing & Stemming data"
   ]
  },
  {
   "cell_type": "code",
   "execution_count": 128,
   "metadata": {},
   "outputs": [],
   "source": [
    "def clean_text(text_to_clean):\n",
    "    # subs charact in the brackets\n",
    "    text_to_clean = re.sub( '[^a-zA-Z0-9]', ' ', text_to_clean)\n",
    "    # subs tabs,newlines and \"whitespace-like\"\n",
    "    text_to_clean = re.sub( '\\s+', ' ', text_to_clean).strip()\n",
    "    # convert to lowercase split indv words\n",
    "    words = text_to_clean.lower().split() \n",
    "    #converting stop words to set\n",
    "    stops = set(stopwords.words('english')) \n",
    "    # removing stop words\n",
    "    meaningful_words = [w for w in words if not w in stops] \n",
    "    #Join the words back into one string separated by space, \n",
    "    # and return the result.\n",
    "    return(\" \".join(meaningful_words))"
   ]
  },
  {
   "cell_type": "code",
   "execution_count": 129,
   "metadata": {},
   "outputs": [],
   "source": [
    "comb_data['clean_title'] = comb_data.apply(lambda x: clean_text(x['title']), axis=1)"
   ]
  },
  {
   "cell_type": "code",
   "execution_count": 130,
   "metadata": {},
   "outputs": [],
   "source": [
    "comb_data['clean_url']=comb_data.apply(lambda x: clean_text(x['url']), axis=1)"
   ]
  },
  {
   "cell_type": "code",
   "execution_count": 131,
   "metadata": {},
   "outputs": [],
   "source": [
    "comb_data['clean_full_link']=comb_data.apply(lambda x: clean_text(x['full_link']), axis=1)"
   ]
  },
  {
   "cell_type": "code",
   "execution_count": 311,
   "metadata": {
    "scrolled": true
   },
   "outputs": [
    {
     "data": {
      "text/html": [
       "<div>\n",
       "<style scoped>\n",
       "    .dataframe tbody tr th:only-of-type {\n",
       "        vertical-align: middle;\n",
       "    }\n",
       "\n",
       "    .dataframe tbody tr th {\n",
       "        vertical-align: top;\n",
       "    }\n",
       "\n",
       "    .dataframe thead th {\n",
       "        text-align: right;\n",
       "    }\n",
       "</style>\n",
       "<table border=\"1\" class=\"dataframe\">\n",
       "  <thead>\n",
       "    <tr style=\"text-align: right;\">\n",
       "      <th></th>\n",
       "      <th>subreddit</th>\n",
       "      <th>subreddit_type</th>\n",
       "      <th>author</th>\n",
       "      <th>created_utc</th>\n",
       "      <th>link_flair_text_color</th>\n",
       "      <th>link_flair_type</th>\n",
       "      <th>retrieved_on</th>\n",
       "      <th>score</th>\n",
       "      <th>subreddit_subscribers</th>\n",
       "      <th>subreddit_type.1</th>\n",
       "      <th>...</th>\n",
       "      <th>media_only</th>\n",
       "      <th>over_18</th>\n",
       "      <th>pinned</th>\n",
       "      <th>spoiler</th>\n",
       "      <th>stickied</th>\n",
       "      <th>timestamp</th>\n",
       "      <th>y</th>\n",
       "      <th>clean_title</th>\n",
       "      <th>clean_url</th>\n",
       "      <th>clean_full_link</th>\n",
       "    </tr>\n",
       "  </thead>\n",
       "  <tbody>\n",
       "    <tr>\n",
       "      <th>0</th>\n",
       "      <td>baby</td>\n",
       "      <td>public</td>\n",
       "      <td>purehoopla</td>\n",
       "      <td>1584915670</td>\n",
       "      <td>dark</td>\n",
       "      <td>text</td>\n",
       "      <td>1584915676</td>\n",
       "      <td>1</td>\n",
       "      <td>6852</td>\n",
       "      <td>public</td>\n",
       "      <td>...</td>\n",
       "      <td>False</td>\n",
       "      <td>False</td>\n",
       "      <td>False</td>\n",
       "      <td>False</td>\n",
       "      <td>False</td>\n",
       "      <td>2020-03-22</td>\n",
       "      <td>1</td>\n",
       "      <td>like pregnant right</td>\n",
       "      <td>https www reddit com r baby comments fn8hsd li...</td>\n",
       "      <td>https www reddit com r baby comments fn8hsd li...</td>\n",
       "    </tr>\n",
       "    <tr>\n",
       "      <th>1</th>\n",
       "      <td>baby</td>\n",
       "      <td>public</td>\n",
       "      <td>Renegade626</td>\n",
       "      <td>1584933321</td>\n",
       "      <td>dark</td>\n",
       "      <td>text</td>\n",
       "      <td>1584933322</td>\n",
       "      <td>1</td>\n",
       "      <td>6855</td>\n",
       "      <td>public</td>\n",
       "      <td>...</td>\n",
       "      <td>False</td>\n",
       "      <td>False</td>\n",
       "      <td>False</td>\n",
       "      <td>False</td>\n",
       "      <td>False</td>\n",
       "      <td>2020-03-22</td>\n",
       "      <td>1</td>\n",
       "      <td>tummy sleeper wakes several times</td>\n",
       "      <td>https www reddit com r baby comments fncyve tu...</td>\n",
       "      <td>https www reddit com r baby comments fncyve tu...</td>\n",
       "    </tr>\n",
       "  </tbody>\n",
       "</table>\n",
       "<p>2 rows × 36 columns</p>\n",
       "</div>"
      ],
      "text/plain": [
       "  subreddit subreddit_type       author  created_utc link_flair_text_color  \\\n",
       "0      baby         public   purehoopla   1584915670                  dark   \n",
       "1      baby         public  Renegade626   1584933321                  dark   \n",
       "\n",
       "  link_flair_type  retrieved_on  score  subreddit_subscribers  \\\n",
       "0            text    1584915676      1                   6852   \n",
       "1            text    1584933322      1                   6855   \n",
       "\n",
       "  subreddit_type.1  ... media_only over_18 pinned spoiler  stickied  \\\n",
       "0           public  ...      False   False  False   False     False   \n",
       "1           public  ...      False   False  False   False     False   \n",
       "\n",
       "    timestamp  y                        clean_title  \\\n",
       "0  2020-03-22  1                like pregnant right   \n",
       "1  2020-03-22  1  tummy sleeper wakes several times   \n",
       "\n",
       "                                           clean_url  \\\n",
       "0  https www reddit com r baby comments fn8hsd li...   \n",
       "1  https www reddit com r baby comments fncyve tu...   \n",
       "\n",
       "                                     clean_full_link  \n",
       "0  https www reddit com r baby comments fn8hsd li...  \n",
       "1  https www reddit com r baby comments fncyve tu...  \n",
       "\n",
       "[2 rows x 36 columns]"
      ]
     },
     "execution_count": 311,
     "metadata": {},
     "output_type": "execute_result"
    }
   ],
   "source": [
    "comb_data.head(2)"
   ]
  },
  {
   "cell_type": "markdown",
   "metadata": {},
   "source": [
    "### Model Preparation "
   ]
  },
  {
   "cell_type": "markdown",
   "metadata": {},
   "source": [
    "establish X and Y"
   ]
  },
  {
   "cell_type": "code",
   "execution_count": 343,
   "metadata": {},
   "outputs": [],
   "source": [
    "X = comb_data['clean_title']\n",
    "y = comb_data['y']"
   ]
  },
  {
   "cell_type": "markdown",
   "metadata": {},
   "source": [
    "Split data into training and testing sets"
   ]
  },
  {
   "cell_type": "code",
   "execution_count": 139,
   "metadata": {},
   "outputs": [],
   "source": [
    "X_train, X_test, y_train, y_test = train_test_split(X, y, random_state = 42, stratify = y)"
   ]
  },
  {
   "cell_type": "code",
   "execution_count": 197,
   "metadata": {},
   "outputs": [],
   "source": [
    "cv = CountVectorizer()\n",
    "tvect = TfidfVectorizer()"
   ]
  },
  {
   "cell_type": "markdown",
   "metadata": {},
   "source": [
    "#### Stopwords"
   ]
  },
  {
   "cell_type": "markdown",
   "metadata": {},
   "source": [
    "Let's look at sklearn's stopwords."
   ]
  },
  {
   "cell_type": "code",
   "execution_count": 198,
   "metadata": {},
   "outputs": [],
   "source": [
    "#print(CountVectorizer(stop_words = 'english').get_stop_words())"
   ]
  },
  {
   "cell_type": "code",
   "execution_count": 199,
   "metadata": {},
   "outputs": [],
   "source": [
    "STOP_WORD = ['eg', 'un', 'am', 'ltd', 'etc', 'may', 'my', 'thru', 'for',\n",
    "                                'from', 'inc', 'con', 'more', 'ie', ]"
   ]
  },
  {
   "cell_type": "code",
   "execution_count": 298,
   "metadata": {
    "scrolled": false
   },
   "outputs": [
    {
     "data": {
      "image/png": "[encoded data removed]",
      "text/plain": [
       "<Figure size 432x288 with 1 Axes>"
      ]
     },
     "metadata": {},
     "output_type": "display_data"
    }
   ],
   "source": [
    "# Plot the lengths of the words.\n",
    "plt.hist(len(STOP_WORD))\n",
    "plt.title('Histogram of Word Lengths');"
   ]
  },
  {
   "cell_type": "markdown",
   "metadata": {},
   "source": [
    "Thus length of our stopwords are between 14.0 to 14.2."
   ]
  },
  {
   "cell_type": "code",
   "execution_count": 214,
   "metadata": {},
   "outputs": [],
   "source": [
    "cv = CountVectorizer(stop_words= STOP_WORD)\n",
    "tvect = TfidfVectorizer(stop_words = STOP_WORD)"
   ]
  },
  {
   "cell_type": "code",
   "execution_count": 316,
   "metadata": {},
   "outputs": [],
   "source": [
    "# grabbing just for titles\n",
    "X_t = comb_data['title']"
   ]
  },
  {
   "cell_type": "code",
   "execution_count": 318,
   "metadata": {},
   "outputs": [],
   "source": [
    "# count vectorizing and put in dataframe\n",
    "X_t = cv.fit_transform(X_t)\n",
    "X_t_df = pd.DataFrame(X_t.toarray(), columns = cv.get_feature_names())"
   ]
  },
  {
   "cell_type": "code",
   "execution_count": 319,
   "metadata": {},
   "outputs": [],
   "source": [
    "picked_words = X_t_df.sum().sort_values(ascending=False)[:30]"
   ]
  },
  {
   "cell_type": "code",
   "execution_count": 324,
   "metadata": {},
   "outputs": [
    {
     "data": {
      "image/png": "[encoded data removed]",
      "text/plain": [
       "<Figure size 720x720 with 1 Axes>"
      ]
     },
     "metadata": {},
     "output_type": "display_data"
    }
   ],
   "source": [
    "plt.figure(figsize=(10,10))\n",
    "plt.barh(y=picked_words.index[::-1],width=picked_words[::-1],color='skyblue')\n",
    "plt.suptitle('Most Frequently Used Words',size=20)\n",
    "plt.title('r/Baby & r/Pets',size=15)\n",
    "plt.xlabel('Frequency',size=13)\n",
    "plt.ylabel('Picked Words',size=13)\n",
    "plt.yticks(size=11.5);"
   ]
  },
  {
   "cell_type": "markdown",
   "metadata": {},
   "source": [
    "These are most frequently used words found in both subreddits. Most of these words are general words that do not give us much meaning like to, be, it. Some of them make sense given that our two subreddits are focused on Popularities. Possibly important words that could help determine which subreddit a post is from cat, dog, baby,need, kitten."
   ]
  },
  {
   "cell_type": "markdown",
   "metadata": {},
   "source": [
    "### Modeling"
   ]
  },
  {
   "cell_type": "markdown",
   "metadata": {},
   "source": [
    "#### Baseline Model\n",
    "\n",
    "Since this is a classification problem (and we'll be using accuracy as our metric), the baseline model is to predicted the most frequently occuring target class.The baseline accuracy is the percentage of the majority class, regardless of whether it is 1 or 0. It serves as the benchmark for our model to beat."
   ]
  },
  {
   "cell_type": "code",
   "execution_count": 140,
   "metadata": {},
   "outputs": [
    {
     "data": {
      "text/plain": [
       "0    0.63186\n",
       "1    0.36814\n",
       "Name: y, dtype: float64"
      ]
     },
     "execution_count": 140,
     "metadata": {},
     "output_type": "execute_result"
    }
   ],
   "source": [
    "y.value_counts(normalize=True)"
   ]
  },
  {
   "cell_type": "markdown",
   "metadata": {},
   "source": [
    "Here 1 as 'baby' and 0 as 'Pets' expect an accuracy of ~36% and ~63%. Any model performing well above this will be a significant improvement to the baseline model."
   ]
  },
  {
   "cell_type": "code",
   "execution_count": 174,
   "metadata": {},
   "outputs": [
    {
     "name": "stdout",
     "output_type": "stream",
     "text": [
      "Test Score: 0.6319385140905209\n",
      "Train Score: 0.6318337129840547\n",
      "Cross Val Score: 0.6318599549389303\n"
     ]
    }
   ],
   "source": [
    "# instantiate DummyClassifier\n",
    "dummy = DummyClassifier(strategy=\"most_frequent\")\n",
    "dummy.fit(X_train, y_train)\n",
    "\n",
    "# score on test\n",
    "print('Test Score:', dummy.score(X_test, y_test))\n",
    "\n",
    "# score on train\n",
    "print('Train Score:', dummy.score(X_train, y_train))\n",
    "\n",
    "# score on cross val\n",
    "print('Cross Val Score:', cross_val_score(dummy, X, y, cv =5).mean())"
   ]
  },
  {
   "cell_type": "markdown",
   "metadata": {},
   "source": [
    "Our baseline model is at ~63% accuracy.\n",
    "Therefore, we are looking to build a model that does better than 63%, otherwise our best bet is to blindly guess the same outcome every time."
   ]
  },
  {
   "cell_type": "markdown",
   "metadata": {},
   "source": [
    "#### Pipeline Models"
   ]
  },
  {
   "cell_type": "markdown",
   "metadata": {},
   "source": [
    " Instantiate GridSearchCV & Fit GridSearch to training data."
   ]
  },
  {
   "cell_type": "markdown",
   "metadata": {},
   "source": [
    "#### Logistic Regression Models"
   ]
  },
  {
   "cell_type": "code",
   "execution_count": 216,
   "metadata": {},
   "outputs": [
    {
     "name": "stdout",
     "output_type": "stream",
     "text": [
      "Train Score: 0.9877562642369021\n",
      "Test Score: 0.9376601195559351\n",
      "Cross Val Score: 0.9511034945133131\n",
      "Best parameters: {'cv__max_df': 0.9, 'cv__max_features': None, 'cv__min_df': 2, 'cv__ngram_range': (1, 2), 'lr__C': 2, 'lr__penalty': 'l2'}\n"
     ]
    }
   ],
   "source": [
    "lr = LogisticRegression()\n",
    "\n",
    "cv_lr_pipe = Pipeline([\n",
    "    ('cv', cv), #transformer\n",
    "    ('lr', lr)  # estimator\n",
    "])\n",
    "\n",
    "params_1 = {\n",
    "    'lr__penalty' : ['l2', 'l1'],\n",
    "    'lr__C' : [1, 2, .5],\n",
    "    'cv__max_features':[None,5_000,10_000],\n",
    "    'cv__min_df': [2, 3],\n",
    "    'cv__max_df': [.9, .95],\n",
    "    'cv__ngram_range':[(1,1),(1,2)] }\n",
    "\n",
    "gs_cv = GridSearchCV(cv_lr_pipe, \n",
    "                  params_1,\n",
    "                  cv = 5)\n",
    "gs_cv.fit(X_train, y_train)\n",
    "print('Train Score:', gs_cv.score(X_train, y_train))\n",
    "print('Test Score:', gs_cv.score(X_test, y_test))\n",
    "print('Cross Val Score:', cross_val_score(gs_cv.best_estimator_,X,y,cv=5).mean())\n",
    "print('Best parameters:', gs_cv.best_params_)\n"
   ]
  },
  {
   "cell_type": "code",
   "execution_count": 217,
   "metadata": {},
   "outputs": [
    {
     "name": "stdout",
     "output_type": "stream",
     "text": [
      "Train Score: 0.9834851936218679\n",
      "Test Score: 0.9444918872758327\n",
      "Cross Val Score: 0.9500364866960386\n",
      "Best parameters: {'lr__C': 2, 'lr__penalty': 'l2', 'tvect__max_df': 0.9, 'tvect__max_features': None, 'tvect__min_df': 2, 'tvect__ngram_range': (1, 2)}\n"
     ]
    }
   ],
   "source": [
    "tfidf_lr_pipe = Pipeline([\n",
    "    ('tvect', tvect), #transformer\n",
    "    ('lr', lr)        # estimator\n",
    "])\n",
    "\n",
    "params_2 = {\n",
    "    'lr__penalty' : ['l2', 'l1'],\n",
    "    'lr__C' : [1, 2, .5],\n",
    "    'tvect__max_features':[None,4_000,5_000,10_000],\n",
    "    'tvect__min_df': [2, 3],\n",
    "    'tvect__max_df': [.9, .95],\n",
    "    'tvect__ngram_range':[(1,1),(1,2)]\n",
    "}\n",
    "\n",
    "gs_tfidf = GridSearchCV(tfidf_lr_pipe, \n",
    "                  params_2,\n",
    "                  cv = 5)\n",
    "gs_tfidf.fit(X_train, y_train)\n",
    "\n",
    "print('Train Score:', gs_tfidf.score(X_train, y_train))\n",
    "print('Test Score:', gs_tfidf.score(X_test, y_test))\n",
    "print('Cross Val Score:', cross_val_score(gs_tfidf.best_estimator_,X,y,cv=5).mean())\n",
    "print('Best parameters:', gs_tfidf.best_params_)"
   ]
  },
  {
   "cell_type": "markdown",
   "metadata": {},
   "source": [
    "#### Naive Bayes Models"
   ]
  },
  {
   "cell_type": "markdown",
   "metadata": {},
   "source": [
    "Multinomial NB"
   ]
  },
  {
   "cell_type": "code",
   "execution_count": 225,
   "metadata": {},
   "outputs": [
    {
     "name": "stdout",
     "output_type": "stream",
     "text": [
      "Train Score: 0.9626993166287016\n",
      "Test Score: 0.9316823228010248\n",
      "Cross Val Score: 0.9340204234281076\n",
      "Best parameters: {'cv__max_df': 0.9, 'cv__max_features': None, 'cv__min_df': 2, 'cv__ngram_range': (1, 1), 'mnb__alpha': 0.5, 'mnb__class_prior': None}\n"
     ]
    }
   ],
   "source": [
    "mnb = MultinomialNB()\n",
    "\n",
    "m_nb_pipe = Pipeline([\n",
    "    ('cv', cv),    #transformer\n",
    "    ('mnb', mnb)   # estimator\n",
    "])\n",
    "\n",
    "params_1 = {\n",
    "    'mnb__alpha' : [1.0, .5],\n",
    "    'mnb__class_prior' : [None, 5],\n",
    "    'cv__max_features':[None,5_000,10_000],\n",
    "    'cv__min_df': [2, 3, 4],\n",
    "    'cv__max_df': [.9, .95, .85],\n",
    "    'cv__ngram_range':[(1,1),(1,2)]\n",
    "}\n",
    "    \n",
    "gs_m_nb = GridSearchCV(m_nb_pipe, \n",
    "                  params_1,\n",
    "                  cv = 5)\n",
    "\n",
    "gs_m_nb.fit(X_train, y_train)\n",
    "\n",
    "print('Train Score:', gs_m_nb.score(X_train, y_train))\n",
    "print('Test Score:', gs_m_nb.score(X_test, y_test))\n",
    "print('Cross Val Score:', cross_val_score(gs_m_nb.best_estimator_,X,y,cv=5).mean())\n",
    "print('Best parameters:', gs_m_nb.best_params_)"
   ]
  },
  {
   "cell_type": "markdown",
   "metadata": {},
   "source": [
    "Binomial NB"
   ]
  },
  {
   "cell_type": "code",
   "execution_count": 227,
   "metadata": {},
   "outputs": [
    {
     "name": "stdout",
     "output_type": "stream",
     "text": [
      "Train Score: 0.9604214123006833\n",
      "Test Score: 0.9274124679760888\n",
      "Cross Val Score: 0.9301779182515576\n",
      "Best parameters: {'bnb__alpha': 0.5, 'bnb__binarize': 0.0, 'tvect__max_df': 0.9, 'tvect__max_features': None, 'tvect__min_df': 2, 'tvect__ngram_range': (1, 1)}\n"
     ]
    }
   ],
   "source": [
    "bnb = BernoulliNB()\n",
    "\n",
    "params_2 = {\n",
    "    'bnb__alpha' : [1.0, .5],\n",
    "    'bnb__binarize' : [0.0, 0.5],\n",
    "    'tvect__max_features':[None,4_000,5_000,10_000],\n",
    "    'tvect__min_df': [2, 3],\n",
    "    'tvect__max_df': [.9, .95],\n",
    "    'tvect__ngram_range':[(1,1),(1,2)]\n",
    "}\n",
    "gs_b_nb = GridSearchCV(b_nb_pipe, \n",
    "                  params_2,\n",
    "                  cv = 5)\n",
    "\n",
    "gs_b_nb.fit(X_train, y_train)\n",
    "\n",
    "print('Train Score:', gs_b_nb.score(X_train, y_train))\n",
    "print('Test Score:', gs_b_nb.score(X_test, y_test))\n",
    "print('Cross Val Score:', cross_val_score(gs_b_nb.best_estimator_,X,y,cv=5).mean())\n",
    "print('Best parameters:', gs_b_nb.best_params_)\n"
   ]
  },
  {
   "cell_type": "markdown",
   "metadata": {},
   "source": [
    "#### Random Forest"
   ]
  },
  {
   "cell_type": "code",
   "execution_count": 238,
   "metadata": {},
   "outputs": [
    {
     "name": "stdout",
     "output_type": "stream",
     "text": [
      "Train Score:  0.9982915717539863\n",
      "Test Score:  0.9342442356959864\n",
      "Best Score:  0.9290942764626975\n"
     ]
    }
   ],
   "source": [
    "# an instance of RandomForestClassifier \n",
    "rf = RandomForestClassifier(random_state=1050)\n",
    "\n",
    "rf_params = {\n",
    "    'n_estimators': [50, 100, 200, 400],\n",
    "     'max_depth' : [None, 2, 3, 4],\n",
    "     'max_features': [None, 'auto']\n",
    "}\n",
    "\n",
    "gs_rf = GridSearchCV(rf, param_grid=rf_params, cv=5)\n",
    "# Fiting\n",
    "gs_rf.fit(X_train_vec,y_train)\n",
    "\n",
    "\n",
    "#rounded down features in each split for classification problem.\n",
    "print(\"Train Score: \", gs_rf.score(X_train_vec,y_train))\n",
    "print(\"Test Score: \", gs_rf.score(X_test_vec,y_test))\n",
    "print(\"Best Score: \", gs_rf.best_score_)"
   ]
  },
  {
   "cell_type": "markdown",
   "metadata": {},
   "source": [
    "#### Extra Trees"
   ]
  },
  {
   "cell_type": "code",
   "execution_count": 235,
   "metadata": {},
   "outputs": [
    {
     "name": "stdout",
     "output_type": "stream",
     "text": [
      "Train Score:  0.9982915717539863\n",
      "Test Score:  0.9350982066609735\n",
      "Best Score:  0.9308028676449729\n"
     ]
    }
   ],
   "source": [
    "# an instance of ExtraTreesClassifier\n",
    "et = ExtraTreesClassifier(random_state=42)\n",
    "\n",
    "et_params = {\n",
    "    'n_estimators': [50, 100, 150],\n",
    "     'max_depth' : [None, 2, 3, 4],\n",
    "     'max_features': [None, 'auto']\n",
    "}\n",
    "\n",
    "gs_et = GridSearchCV(rf, param_grid=et_params, cv=5)\n",
    "# Fiting\n",
    "gs_et.fit(X_train_vec,y_train)\n",
    "\n",
    "#rounded down features in each split for classification problem.\n",
    "print(\"Train Score: \", gs_et.score(X_train_vec,y_train))\n",
    "print(\"Test Score: \", gs_et.score(X_test_vec,y_test))\n",
    "print(\"Best Score: \", gs_et.best_score_)"
   ]
  },
  {
   "cell_type": "markdown",
   "metadata": {},
   "source": [
    "#### Bagging Classifier"
   ]
  },
  {
   "cell_type": "code",
   "execution_count": 279,
   "metadata": {
    "scrolled": true
   },
   "outputs": [
    {
     "name": "stdout",
     "output_type": "stream",
     "text": [
      "Train Score:  0.7201025056947609\n",
      "Test Score:  0.7250213492741246\n",
      "Best Score:  0.7070224070224069\n",
      "Best parameters: {'base_estimator': None, 'max_features': 1.0, 'max_samples': 10, 'n_estimators': 10}\n"
     ]
    }
   ],
   "source": [
    "bagged = BaggingClassifier(random_state=42)\n",
    "\n",
    "bagged_params = {'base_estimator' : [None, 50, 100],\n",
    "               'n_estimators' : [10, 20],\n",
    "               'max_samples' : [1, 5, 10],\n",
    "                 'max_features' : [1.0, 1.5]\n",
    "}\n",
    "gs_bagged = GridSearchCV(bagged, param_grid=bagged_params, cv=5)\n",
    "# Fiting\n",
    "gs_bagged.fit(X_train_vec,y_train)\n",
    "\n",
    "#rounded down features in each split for classification problem.\n",
    "print(\"Train Score: \", gs_bagged.score(X_train_vec,y_train))\n",
    "print(\"Test Score: \", gs_bagged.score(X_test_vec,y_test))\n",
    "print(\"Best Score: \", gs_bagged.best_score_)\n",
    "print('Best parameters:', gs_bagged.best_params_)"
   ]
  },
  {
   "cell_type": "markdown",
   "metadata": {},
   "source": [
    "#### DecisionTreeClassifier"
   ]
  },
  {
   "cell_type": "code",
   "execution_count": 256,
   "metadata": {},
   "outputs": [
    {
     "name": "stdout",
     "output_type": "stream",
     "text": [
      "Train Score:  0.9982915717539863\n",
      "Test Score:  0.9197267292912041\n",
      "Best Score:  0.9182757656441867\n"
     ]
    }
   ],
   "source": [
    "dtc = DecisionTreeClassifier(random_state=42)\n",
    "\n",
    "dtc_params = {'ccp_alpha' : [0.0, 0.5, 1],\n",
    "               'max_depth' : [None, 1, 5, 10],\n",
    "                 'max_features' : [None, 100, 200]\n",
    "}\n",
    "gs_dtc = GridSearchCV(dtc, param_grid=dtc_params, cv=5)\n",
    "# Fiting\n",
    "gs_dtc.fit(X_train_vec,y_train)\n",
    "\n",
    "#rounded down features in each split for classification problem.\n",
    "print(\"Train Score: \", gs_dtc.score(X_train_vec,y_train))\n",
    "print(\"Test Score: \", gs_dtc.score(X_test_vec,y_test))\n",
    "print(\"Best Score: \", gs_dtc.best_score_)"
   ]
  },
  {
   "cell_type": "markdown",
   "metadata": {},
   "source": [
    "Using accuracy as metric, evaluate all models on the training and testing sets"
   ]
  },
  {
   "cell_type": "markdown",
   "metadata": {},
   "source": [
    "| Model                           | Train Score | Test Score |\n",
    "|---------------------------------|-------------|------------|\n",
    "| Baseline                        | 0.6318      | 0.6319     |\n",
    "| CountVectorizer(estimator = lr) | 0.987       | 0.937      |\n",
    "| TfidfVectorizer(estimator = lr) | 0.983       | 0.944      |\n",
    "| MultinomialNB                   | 0.962       | 0.931      |\n",
    "| BernoulliNB                     | 0.960       | 0.927      |\n",
    "| Random Forest                   | 0.998       | 0.934      |\n",
    "| Extra Trees                     | 0.998       | 0.935      |\n",
    "| **Bagging Classifier**          | 0.720       | 0.725      |\n",
    "| DecisionTreeClassifier          | 0.998       | 0.9197     |"
   ]
  },
  {
   "cell_type": "markdown",
   "metadata": {},
   "source": [
    "From the above table we can see Bagging Classifier has the best train score 0.7201 and test score 0.7250.that means it has lowish bias and lowish variance.So our model is ideal. So we pick this model as our best model."
   ]
  },
  {
   "cell_type": "markdown",
   "metadata": {},
   "source": [
    "### Model Evaluation"
   ]
  },
  {
   "cell_type": "markdown",
   "metadata": {},
   "source": [
    "Using our best model BaggingClassifier"
   ]
  },
  {
   "cell_type": "code",
   "execution_count": 283,
   "metadata": {},
   "outputs": [
    {
     "name": "stdout",
     "output_type": "stream",
     "text": [
      "Train Score:  0.7201025056947609\n",
      "Test Score:  0.7250213492741246\n"
     ]
    }
   ],
   "source": [
    "bagged = BaggingClassifier(random_state=42, base_estimator = None, max_features = 1.0, max_samples = 10, n_estimators = 10)\n",
    "bagged.fit(X_train_vec,y_train)\n",
    "print(\"Train Score: \", bagged.score(X_train_vec,y_train))\n",
    "print(\"Test Score: \", bagged.score(X_test_vec,y_test))"
   ]
  },
  {
   "cell_type": "code",
   "execution_count": 289,
   "metadata": {},
   "outputs": [],
   "source": [
    "def pretty_confusion_matrix(y_true, y_pred):\n",
    "    \n",
    "    # handling data\n",
    "    cm = confusion_matrix(y_true, y_pred)\n",
    "    labels = y_true.unique()\n",
    "    labels.sort()\n",
    "    \n",
    "    # plotting\n",
    "    sns.set(font_scale=1.2)\n",
    "    plt.figure(figsize=(10,4))\n",
    "    \n",
    "    sns.heatmap(cm, annot=True, fmt='g', cmap=\"PiYG\",xticklabels=labels, yticklabels=labels, annot_kws={\"size\": 20})\n",
    "    plt.title(\"Bagging Model Matrix (1 = r/baby)\")\n",
    "    plt.xlabel('Predicted Subreddit')\n",
    "    plt.ylabel('True Subreddit')"
   ]
  },
  {
   "cell_type": "code",
   "execution_count": 290,
   "metadata": {
    "scrolled": true
   },
   "outputs": [
    {
     "data": {
      "image/png": "[encoded data removed]",
      "text/plain": [
       "<Figure size 720x288 with 2 Axes>"
      ]
     },
     "metadata": {},
     "output_type": "display_data"
    }
   ],
   "source": [
    "pretty_confusion_matrix(y_test, bagged.predict(X_test_vec))"
   ]
  },
  {
   "cell_type": "markdown",
   "metadata": {},
   "source": [
    " Calculate model accuracy from above matrix"
   ]
  },
  {
   "cell_type": "code",
   "execution_count": 286,
   "metadata": {},
   "outputs": [
    {
     "data": {
      "text/plain": [
       "72.50213492741247"
      ]
     },
     "execution_count": 286,
     "metadata": {},
     "output_type": "execute_result"
    }
   ],
   "source": [
    "accuracy =(415+434)/(415+434+16+306) #prediction are currect\n",
    "accuracy * 100"
   ]
  },
  {
   "cell_type": "code",
   "execution_count": 376,
   "metadata": {},
   "outputs": [
    {
     "data": {
      "text/plain": [
       "27.497865072587537"
      ]
     },
     "execution_count": 376,
     "metadata": {},
     "output_type": "execute_result"
    }
   ],
   "source": [
    "misclasification_rate = 1 - accuracy #prediction are incorrect\n",
    "misclasification_rate * 100"
   ]
  },
  {
   "cell_type": "code",
   "execution_count": 372,
   "metadata": {
    "scrolled": true
   },
   "outputs": [
    {
     "data": {
      "text/plain": [
       "58.648648648648646"
      ]
     },
     "execution_count": 372,
     "metadata": {},
     "output_type": "execute_result"
    }
   ],
   "source": [
    "Specificity = 434/ (434+ 306) #True negative rate\n",
    "Specificity * 100"
   ]
  },
  {
   "cell_type": "code",
   "execution_count": 373,
   "metadata": {},
   "outputs": [
    {
     "data": {
      "text/plain": [
       "96.2877030162413"
      ]
     },
     "execution_count": 373,
     "metadata": {},
     "output_type": "execute_result"
    }
   ],
   "source": [
    "Sensitivity = 415/(415+16) # True positive rate\n",
    "Sensitivity * 100"
   ]
  },
  {
   "cell_type": "markdown",
   "metadata": {},
   "source": [
    "Thus the proportion of prediction for the r/baby is ~72% which is not true in the basis of our real values. so we pick misclasification rate, which is ~27%."
   ]
  },
  {
   "cell_type": "markdown",
   "metadata": {},
   "source": [
    "Lets find coefficients from interpretable model using logistic regression"
   ]
  },
  {
   "cell_type": "code",
   "execution_count": 352,
   "metadata": {
    "scrolled": false
   },
   "outputs": [
    {
     "data": {
      "text/plain": [
       "LogisticRegression(C=1.0, class_weight=None, dual=False, fit_intercept=True,\n",
       "                   intercept_scaling=1, l1_ratio=None, max_iter=100,\n",
       "                   multi_class='auto', n_jobs=None, penalty='l2',\n",
       "                   random_state=None, solver='saga', tol=0.0001, verbose=0,\n",
       "                   warm_start=False)"
      ]
     },
     "execution_count": 352,
     "metadata": {},
     "output_type": "execute_result"
    }
   ],
   "source": [
    "lr = LogisticRegression(solver='saga')\n",
    "\n",
    "lr.fit(X_train_vec, y_train)\n",
    "\n"
   ]
  },
  {
   "cell_type": "code",
   "execution_count": 353,
   "metadata": {},
   "outputs": [
    {
     "data": {
      "text/plain": [
       "array([[-0.09439622,  0.54229945,  0.03595482, ...,  0.15312746,\n",
       "        -0.00375774,  0.04958914]])"
      ]
     },
     "execution_count": 353,
     "metadata": {},
     "output_type": "execute_result"
    }
   ],
   "source": [
    "lr.coef_"
   ]
  },
  {
   "cell_type": "code",
   "execution_count": 364,
   "metadata": {
    "scrolled": true
   },
   "outputs": [
    {
     "data": {
      "text/html": [
       "<div>\n",
       "<style scoped>\n",
       "    .dataframe tbody tr th:only-of-type {\n",
       "        vertical-align: middle;\n",
       "    }\n",
       "\n",
       "    .dataframe tbody tr th {\n",
       "        vertical-align: top;\n",
       "    }\n",
       "\n",
       "    .dataframe thead th {\n",
       "        text-align: right;\n",
       "    }\n",
       "</style>\n",
       "<table border=\"1\" class=\"dataframe\">\n",
       "  <thead>\n",
       "    <tr style=\"text-align: right;\">\n",
       "      <th></th>\n",
       "      <th>0</th>\n",
       "      <th>1</th>\n",
       "      <th>2</th>\n",
       "      <th>3</th>\n",
       "      <th>4</th>\n",
       "      <th>5</th>\n",
       "      <th>6</th>\n",
       "      <th>7</th>\n",
       "      <th>8</th>\n",
       "      <th>9</th>\n",
       "      <th>...</th>\n",
       "      <th>4080</th>\n",
       "      <th>4081</th>\n",
       "      <th>4082</th>\n",
       "      <th>4083</th>\n",
       "      <th>4084</th>\n",
       "      <th>4085</th>\n",
       "      <th>4086</th>\n",
       "      <th>4087</th>\n",
       "      <th>4088</th>\n",
       "      <th>4089</th>\n",
       "    </tr>\n",
       "  </thead>\n",
       "  <tbody>\n",
       "    <tr>\n",
       "      <th>0</th>\n",
       "      <td>-0.094396</td>\n",
       "      <td>0.542299</td>\n",
       "      <td>0.035955</td>\n",
       "      <td>0.319866</td>\n",
       "      <td>-0.084604</td>\n",
       "      <td>0.066567</td>\n",
       "      <td>0.32828</td>\n",
       "      <td>0.644362</td>\n",
       "      <td>0.148013</td>\n",
       "      <td>-0.294867</td>\n",
       "      <td>...</td>\n",
       "      <td>-0.278481</td>\n",
       "      <td>-0.207487</td>\n",
       "      <td>0.013349</td>\n",
       "      <td>-0.135317</td>\n",
       "      <td>-0.193235</td>\n",
       "      <td>0.050883</td>\n",
       "      <td>0.030175</td>\n",
       "      <td>0.153127</td>\n",
       "      <td>-0.003758</td>\n",
       "      <td>0.049589</td>\n",
       "    </tr>\n",
       "  </tbody>\n",
       "</table>\n",
       "<p>1 rows × 4090 columns</p>\n",
       "</div>"
      ],
      "text/plain": [
       "       0         1         2         3         4         5        6     \\\n",
       "0 -0.094396  0.542299  0.035955  0.319866 -0.084604  0.066567  0.32828   \n",
       "\n",
       "       7         8         9     ...      4080      4081      4082      4083  \\\n",
       "0  0.644362  0.148013 -0.294867  ... -0.278481 -0.207487  0.013349 -0.135317   \n",
       "\n",
       "       4084      4085      4086      4087      4088      4089  \n",
       "0 -0.193235  0.050883  0.030175  0.153127 -0.003758  0.049589  \n",
       "\n",
       "[1 rows x 4090 columns]"
      ]
     },
     "execution_count": 364,
     "metadata": {},
     "output_type": "execute_result"
    }
   ],
   "source": [
    "pd.DataFrame(lr.coef_)"
   ]
  },
  {
   "cell_type": "code",
   "execution_count": 368,
   "metadata": {},
   "outputs": [
    {
     "data": {
      "text/plain": [
       "1.7199565003304516"
      ]
     },
     "execution_count": 368,
     "metadata": {},
     "output_type": "execute_result"
    }
   ],
   "source": [
    "np.exp(0.542299)"
   ]
  },
  {
   "cell_type": "code",
   "execution_count": 369,
   "metadata": {},
   "outputs": [
    {
     "data": {
      "text/plain": [
       "0.9099223616309501"
      ]
     },
     "execution_count": 369,
     "metadata": {},
     "output_type": "execute_result"
    }
   ],
   "source": [
    "np.exp(-0.094396)"
   ]
  },
  {
   "cell_type": "markdown",
   "metadata": {},
   "source": [
    "Because of the minimum coefficients the impact of given titles fraction time is more likely zero.This is not a good measure of  title coefficient."
   ]
  },
  {
   "cell_type": "markdown",
   "metadata": {},
   "source": [
    "### Conclusions and Recommendations"
   ]
  },
  {
   "cell_type": "markdown",
   "metadata": {},
   "source": [
    "Thus this model will be able to predict a posts subreddit with very good accuracy of ~72% by Using the Bagging Classifier. But in the real world we can find Young Americans may be less likely to be homeowners or parents of human children, but they are leading in their rate of pet ownership. So our prediction can be ~27%  incorrect about baby priority over pets.\n",
    "\n",
    "This project can be recommended for:\n",
    "- Use for sentiment analysis of pets vs baby priority\n",
    "- also how to pull data requests from web"
   ]
  },
  {
   "cell_type": "markdown",
   "metadata": {},
   "source": [
    "### References"
   ]
  },
  {
   "cell_type": "markdown",
   "metadata": {},
   "source": [
    "- [Pushshift API](https://github.com/pushshift/api)\n",
    "\n",
    "- https://api.pushshift.io/reddit/search/submission?subreddit=baby\n",
    "\n",
    "- https://api.pushshift.io/reddit/search/submission?subreddit=Pets\n",
    "\n",
    "- https://www.epochconverter.com\n",
    "\n",
    "- https://pushshift.io/api-parameters/"
   ]
  }
 ],
 "metadata": {
  "kernelspec": {
   "display_name": "Python 3",
   "language": "python",
   "name": "python3"
  },
  "language_info": {
   "codemirror_mode": {
    "name": "ipython",
    "version": 3
   },
   "file_extension": ".py",
   "mimetype": "text/x-python",
   "name": "python",
   "nbconvert_exporter": "python",
   "pygments_lexer": "ipython3",
   "version": "3.7.6"
  }
 },
 "nbformat": 4,
 "nbformat_minor": 4
}
